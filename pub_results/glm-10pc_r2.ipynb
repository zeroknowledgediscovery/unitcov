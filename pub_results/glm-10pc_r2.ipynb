version https://git-lfs.github.com/spec/v1
oid sha256:c73eada695c46ec42d26a3fe9dab52fcbc5306bbffcda2d152a28bfd574e35b0
size 221854
