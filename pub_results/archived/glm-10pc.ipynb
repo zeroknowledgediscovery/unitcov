{
 "cells": [
  {
   "cell_type": "markdown",
   "metadata": {},
   "source": [
    "## get glm coefficients and correlations for publication\n",
    "Update data in pipeline if needed."
   ]
  },
  {
   "cell_type": "code",
   "execution_count": 1,
   "metadata": {},
   "outputs": [],
   "source": [
    "import numpy as np\n",
    "import pandas as pd\n",
    "from glob import glob\n",
    "from subprocess import check_output\n",
    "\n",
    "import statsmodels.api as sm\n",
    "import statsmodels.formula.api as smf\n",
    "\n",
    "from sklearn.metrics import r2_score\n",
    "\n",
    "import pylab as plt\n",
    "%matplotlib inline\n",
    "\n",
    "import warnings\n",
    "warnings.filterwarnings(\"ignore\")"
   ]
  },
  {
   "cell_type": "markdown",
   "metadata": {},
   "source": [
    "## Get data"
   ]
  },
  {
   "cell_type": "code",
   "execution_count": 2,
   "metadata": {},
   "outputs": [],
   "source": [
    "with open('../forecast_pipeline/pipeline_data/steps.dat', 'r') as handle:\n",
    "    steps = handle.readline().strip().split()\n",
    "    \n",
    "ns = len(steps)\n",
    "\n",
    "steps_c = [f'case{i}' for i in range(ns)]\n",
    "steps_d = [f'death{i}' for i in range(ns)]\n",
    "steps_ = steps_c + steps_d"
   ]
  },
  {
   "cell_type": "code",
   "execution_count": 3,
   "metadata": {},
   "outputs": [],
   "source": [
    "data_fname = glob('../forecast_pipeline/pipeline_data/data_????-??-??.csv')[0]\n",
    "date = data_fname.split('/')[-1][:-4].split('_')[1]\n",
    "\n",
    "result_folder = 'results_perturbation_10pc'\n",
    "\n",
    "data_fname_glm_prefix = data_fname.split('/')[-1][:-4] + '_glm'\n",
    "data_fname_glm_full = f'{result_folder}/{data_fname_glm_prefix}-full.csv'\n",
    "data_fname_glm_baseline = f'{result_folder}/{data_fname_glm_prefix}-baseline.csv'"
   ]
  },
  {
   "cell_type": "code",
   "execution_count": 4,
   "metadata": {},
   "outputs": [],
   "source": [
    "df = pd.read_csv(data_fname, dtype={'fips': str}).set_index('fips')\n",
    "df['urban_risk'] = df['perc_urban_pop'] * (df['risk_flu'] - df['risk_flu'].min())"
   ]
  },
  {
   "cell_type": "markdown",
   "metadata": {},
   "source": [
    "## Selection"
   ]
  },
  {
   "cell_type": "code",
   "execution_count": 5,
   "metadata": {},
   "outputs": [
    {
     "data": {
      "image/png": "[encoded data removed]",
      "text/plain": [
       "<Figure size 432x288 with 1 Axes>"
      ]
     },
     "metadata": {
      "needs_background": "light"
     },
     "output_type": "display_data"
    }
   ],
   "source": [
    "df_select = df[['population']]\n",
    "df_select['covid'] = df[[col for col in df.columns if col.startswith('case')]].sum(axis=1)\n",
    "df_select['covidpc'] = df_select.covid / df_select.population\n",
    "\n",
    "# ========== get cut at 90-th quantile of covid pc ============ \n",
    "cut = df_select['covidpc'].quantile(.9)\n",
    "\n",
    "fig, ax = plt.subplots(1, 1)\n",
    "X = df_select['covidpc'].sort_values().values\n",
    "ax.plot(X)\n",
    "ax.axhline(cut)\n",
    "ax.text(len(df) // 2, cut + .01, f'90th quantile at {cut:.3f}')\n",
    "\n",
    "df = df[df_select['covidpc'] <= cut]"
   ]
  },
  {
   "cell_type": "markdown",
   "metadata": {},
   "source": [
    "### Covariates"
   ]
  },
  {
   "cell_type": "code",
   "execution_count": 6,
   "metadata": {},
   "outputs": [],
   "source": [
    "covariates_baseline = [\n",
    "    'population', \n",
    "    'perc_65yrs', \n",
    "    'perc_minority', \n",
    "    'perc_black', \n",
    "    'perc_hispanic', \n",
    "    'perc_poverty', \n",
    "    'perc_urban_pop',\n",
    "    'income',\n",
    "]\n",
    "covariates_full = covariates_baseline + ['risk_flu', 'urban_risk']"
   ]
  },
  {
   "cell_type": "markdown",
   "metadata": {},
   "source": [
    "### standarize"
   ]
  },
  {
   "cell_type": "code",
   "execution_count": 7,
   "metadata": {},
   "outputs": [
    {
     "data": {
      "text/html": [
       "<div>\n",
       "<style scoped>\n",
       "    .dataframe tbody tr th:only-of-type {\n",
       "        vertical-align: middle;\n",
       "    }\n",
       "\n",
       "    .dataframe tbody tr th {\n",
       "        vertical-align: top;\n",
       "    }\n",
       "\n",
       "    .dataframe thead th {\n",
       "        text-align: right;\n",
       "    }\n",
       "</style>\n",
       "<table border=\"1\" class=\"dataframe\">\n",
       "  <thead>\n",
       "    <tr style=\"text-align: right;\">\n",
       "      <th></th>\n",
       "      <th>case0</th>\n",
       "      <th>case1</th>\n",
       "      <th>case2</th>\n",
       "      <th>case3</th>\n",
       "      <th>case4</th>\n",
       "      <th>case5</th>\n",
       "      <th>case6</th>\n",
       "      <th>case7</th>\n",
       "      <th>case8</th>\n",
       "      <th>case9</th>\n",
       "      <th>...</th>\n",
       "      <th>population</th>\n",
       "      <th>perc_65yrs</th>\n",
       "      <th>perc_minority</th>\n",
       "      <th>perc_black</th>\n",
       "      <th>perc_hispanic</th>\n",
       "      <th>perc_poverty</th>\n",
       "      <th>perc_urban_pop</th>\n",
       "      <th>income</th>\n",
       "      <th>risk_flu</th>\n",
       "      <th>urban_risk</th>\n",
       "    </tr>\n",
       "    <tr>\n",
       "      <th>fips</th>\n",
       "      <th></th>\n",
       "      <th></th>\n",
       "      <th></th>\n",
       "      <th></th>\n",
       "      <th></th>\n",
       "      <th></th>\n",
       "      <th></th>\n",
       "      <th></th>\n",
       "      <th></th>\n",
       "      <th></th>\n",
       "      <th></th>\n",
       "      <th></th>\n",
       "      <th></th>\n",
       "      <th></th>\n",
       "      <th></th>\n",
       "      <th></th>\n",
       "      <th></th>\n",
       "      <th></th>\n",
       "      <th></th>\n",
       "      <th></th>\n",
       "      <th></th>\n",
       "    </tr>\n",
       "  </thead>\n",
       "  <tbody>\n",
       "    <tr>\n",
       "      <th>01001</th>\n",
       "      <td>12.0</td>\n",
       "      <td>7.0</td>\n",
       "      <td>6.0</td>\n",
       "      <td>11.0</td>\n",
       "      <td>9.0</td>\n",
       "      <td>23.0</td>\n",
       "      <td>42.0</td>\n",
       "      <td>45.0</td>\n",
       "      <td>61.0</td>\n",
       "      <td>43.0</td>\n",
       "      <td>...</td>\n",
       "      <td>-0.163202</td>\n",
       "      <td>-0.830980</td>\n",
       "      <td>0.602382</td>\n",
       "      <td>0.821579</td>\n",
       "      <td>-0.493674</td>\n",
       "      <td>-0.177991</td>\n",
       "      <td>0.522335</td>\n",
       "      <td>0.433154</td>\n",
       "      <td>0.968650</td>\n",
       "      <td>0.630955</td>\n",
       "    </tr>\n",
       "    <tr>\n",
       "      <th>01003</th>\n",
       "      <td>29.0</td>\n",
       "      <td>37.0</td>\n",
       "      <td>43.0</td>\n",
       "      <td>38.0</td>\n",
       "      <td>34.0</td>\n",
       "      <td>35.0</td>\n",
       "      <td>38.0</td>\n",
       "      <td>19.0</td>\n",
       "      <td>10.0</td>\n",
       "      <td>21.0</td>\n",
       "      <td>...</td>\n",
       "      <td>0.316511</td>\n",
       "      <td>0.220550</td>\n",
       "      <td>-0.146653</td>\n",
       "      <td>-0.015643</td>\n",
       "      <td>-0.358484</td>\n",
       "      <td>-0.889266</td>\n",
       "      <td>0.512721</td>\n",
       "      <td>0.307348</td>\n",
       "      <td>1.257453</td>\n",
       "      <td>0.779375</td>\n",
       "    </tr>\n",
       "    <tr>\n",
       "      <th>01005</th>\n",
       "      <td>2.0</td>\n",
       "      <td>7.0</td>\n",
       "      <td>9.0</td>\n",
       "      <td>14.0</td>\n",
       "      <td>11.0</td>\n",
       "      <td>15.0</td>\n",
       "      <td>21.0</td>\n",
       "      <td>26.0</td>\n",
       "      <td>45.0</td>\n",
       "      <td>40.0</td>\n",
       "      <td>...</td>\n",
       "      <td>-0.252581</td>\n",
       "      <td>-0.049786</td>\n",
       "      <td>2.418830</td>\n",
       "      <td>2.898107</td>\n",
       "      <td>-0.373662</td>\n",
       "      <td>2.862707</td>\n",
       "      <td>-0.304512</td>\n",
       "      <td>-1.360909</td>\n",
       "      <td>0.384003</td>\n",
       "      <td>-0.262247</td>\n",
       "    </tr>\n",
       "    <tr>\n",
       "      <th>01007</th>\n",
       "      <td>4.0</td>\n",
       "      <td>9.0</td>\n",
       "      <td>13.0</td>\n",
       "      <td>8.0</td>\n",
       "      <td>8.0</td>\n",
       "      <td>3.0</td>\n",
       "      <td>5.0</td>\n",
       "      <td>8.0</td>\n",
       "      <td>14.0</td>\n",
       "      <td>5.0</td>\n",
       "      <td>...</td>\n",
       "      <td>-0.259151</td>\n",
       "      <td>-0.684645</td>\n",
       "      <td>0.568625</td>\n",
       "      <td>0.906955</td>\n",
       "      <td>-0.510018</td>\n",
       "      <td>1.244558</td>\n",
       "      <td>-0.323741</td>\n",
       "      <td>-0.521101</td>\n",
       "      <td>0.399473</td>\n",
       "      <td>-0.271003</td>\n",
       "    </tr>\n",
       "    <tr>\n",
       "      <th>01009</th>\n",
       "      <td>10.0</td>\n",
       "      <td>2.0</td>\n",
       "      <td>8.0</td>\n",
       "      <td>11.0</td>\n",
       "      <td>9.0</td>\n",
       "      <td>4.0</td>\n",
       "      <td>1.0</td>\n",
       "      <td>4.0</td>\n",
       "      <td>12.0</td>\n",
       "      <td>9.0</td>\n",
       "      <td>...</td>\n",
       "      <td>-0.157593</td>\n",
       "      <td>-0.257869</td>\n",
       "      <td>-0.708455</td>\n",
       "      <td>-0.538942</td>\n",
       "      <td>0.027572</td>\n",
       "      <td>-0.284682</td>\n",
       "      <td>-1.015986</td>\n",
       "      <td>-0.208528</td>\n",
       "      <td>0.580444</td>\n",
       "      <td>-0.737880</td>\n",
       "    </tr>\n",
       "  </tbody>\n",
       "</table>\n",
       "<p>5 rows × 74 columns</p>\n",
       "</div>"
      ],
      "text/plain": [
       "       case0  case1  case2  case3  case4  case5  case6  case7  case8  case9  \\\n",
       "fips                                                                          \n",
       "01001   12.0    7.0    6.0   11.0    9.0   23.0   42.0   45.0   61.0   43.0   \n",
       "01003   29.0   37.0   43.0   38.0   34.0   35.0   38.0   19.0   10.0   21.0   \n",
       "01005    2.0    7.0    9.0   14.0   11.0   15.0   21.0   26.0   45.0   40.0   \n",
       "01007    4.0    9.0   13.0    8.0    8.0    3.0    5.0    8.0   14.0    5.0   \n",
       "01009   10.0    2.0    8.0   11.0    9.0    4.0    1.0    4.0   12.0    9.0   \n",
       "\n",
       "       ...  population  perc_65yrs  perc_minority  perc_black  perc_hispanic  \\\n",
       "fips   ...                                                                     \n",
       "01001  ...   -0.163202   -0.830980       0.602382    0.821579      -0.493674   \n",
       "01003  ...    0.316511    0.220550      -0.146653   -0.015643      -0.358484   \n",
       "01005  ...   -0.252581   -0.049786       2.418830    2.898107      -0.373662   \n",
       "01007  ...   -0.259151   -0.684645       0.568625    0.906955      -0.510018   \n",
       "01009  ...   -0.157593   -0.257869      -0.708455   -0.538942       0.027572   \n",
       "\n",
       "       perc_poverty  perc_urban_pop    income  risk_flu  urban_risk  \n",
       "fips                                                                 \n",
       "01001     -0.177991        0.522335  0.433154  0.968650    0.630955  \n",
       "01003     -0.889266        0.512721  0.307348  1.257453    0.779375  \n",
       "01005      2.862707       -0.304512 -1.360909  0.384003   -0.262247  \n",
       "01007      1.244558       -0.323741 -0.521101  0.399473   -0.271003  \n",
       "01009     -0.284682       -1.015986 -0.208528  0.580444   -0.737880  \n",
       "\n",
       "[5 rows x 74 columns]"
      ]
     },
     "execution_count": 7,
     "metadata": {},
     "output_type": "execute_result"
    }
   ],
   "source": [
    "df_z = df[steps_].copy()\n",
    "for c in covariates_full:\n",
    "    mean, std = df[c].mean(), df[c].std()\n",
    "    df_z[c] = (df[c] - mean) / std\n",
    "df_z.head()"
   ]
  },
  {
   "cell_type": "markdown",
   "metadata": {},
   "source": [
    "## Functions"
   ]
  },
  {
   "cell_type": "code",
   "execution_count": 8,
   "metadata": {},
   "outputs": [],
   "source": [
    "def glm(df, targets, cov, verbose=False):\n",
    "    \n",
    "    \"\"\"\n",
    "    \"\"\"\n",
    "    \n",
    "    cors_cur, cors_nxt, r2_cur, r2_nxt, coef_dfs = [], [], [], [], []\n",
    "    \n",
    "    for i in range(len(targets)):\n",
    "        cur = targets[i]\n",
    "        formula = f'{cur}~{cov}'\n",
    "\n",
    "        model = smf.glm(\n",
    "            formula=formula,\n",
    "            data=df,\n",
    "            family=sm.families.Poisson(sm.families.links.log())\n",
    "        ).fit()\n",
    "        \n",
    "        if verbose:\n",
    "            print(f'{model.summary()}\\n\\n')\n",
    "\n",
    "        prd = model.predict()\n",
    "        cor_cur = pd.DataFrame(\n",
    "            data={'prd': prd, 'grd': df[cur].values}, \n",
    "            index=df.index).corr().loc['prd', 'grd']\n",
    "        cors_cur.append(cor_cur)\n",
    "        r2_cur.append(r2_score(prd, df[cur].values))\n",
    "\n",
    "        if i < len(targets) - 1:\n",
    "            nxt = targets[i + 1]\n",
    "            cor_nxt = pd.DataFrame(\n",
    "                data={'prd': prd, 'grd': df[nxt].values}, \n",
    "                index=df.index).corr().loc['prd', 'grd']\n",
    "            cors_nxt.append(cor_nxt)\n",
    "            r2_nxt.append(r2_score(prd, df[nxt].values))\n",
    "\n",
    "        # Get and save coefficients\n",
    "        results_as_html = model.summary().tables[1].as_html()\n",
    "        summary = pd.read_html(results_as_html, header=0, index_col=0)[0] \n",
    "        coef_dfs.append(summary[['coef']].rename(columns={'coef': cur}))\n",
    "    \n",
    "    cor_df = pd.concat([\n",
    "        pd.DataFrame(data={'cor_cur': cors_cur}, index=steps),\n",
    "        pd.DataFrame(data={'cor_nxt': cors_nxt}, index=steps[:-1])\n",
    "    ], axis=1, join='outer')\n",
    "    \n",
    "    r2_df = pd.concat([\n",
    "        pd.DataFrame(data={'r2_cur': r2_cur}, index=steps),\n",
    "        pd.DataFrame(data={'r2_nxt': r2_nxt}, index=steps[:-1])\n",
    "    ], axis=1, join='outer')\n",
    "    \n",
    "    coef_df = pd.concat(coef_dfs, axis=1).rename(columns={t: s for t, s in zip(targets, steps)}).T\n",
    "    coef_df.index.name = 'date'\n",
    "    \n",
    "    return cor_df, r2_df, coef_df"
   ]
  },
  {
   "cell_type": "markdown",
   "metadata": {},
   "source": [
    "# Full GLM"
   ]
  },
  {
   "cell_type": "code",
   "execution_count": 9,
   "metadata": {},
   "outputs": [],
   "source": [
    "df_full = df_z.copy()\n",
    "cov_full = '+'.join(covariates_full)"
   ]
  },
  {
   "cell_type": "code",
   "execution_count": null,
   "metadata": {
    "scrolled": false
   },
   "outputs": [],
   "source": [
    "for targets, target_type in zip([steps_c, steps_d], ['case', 'death']):\n",
    "\n",
    "    cor_df, r2_df, coef_df = glm(df_full, targets, cov_full)\n",
    "    \n",
    "    fig, axes = plt.subplots(1, 2, figsize=(9, 4))\n",
    "    cor_df.plot(ax=axes[0], marker='o')\n",
    "    axes[0].legend()\n",
    "    r2_df.plot(ax=axes[1], marker='o')\n",
    "    axes[1].legend()\n",
    "\n",
    "    coef_df.to_csv(f'{result_folder}/{target_type}/{date}_coef_full.csv', float_format='%.5f')\n",
    "    cor_df.to_csv(f'{result_folder}/{target_type}/{date}_cor_full.csv', float_format='%.5f')\n",
    "    r2_df.to_csv(f'{result_folder}/{target_type}/{date}_r2_full.csv', float_format='%.5f')\n",
    "\n",
    "df_full.to_csv(data_fname_glm_full, float_format='%.2f')"
   ]
  },
  {
   "cell_type": "markdown",
   "metadata": {},
   "source": [
    "## Baseline GLM"
   ]
  },
  {
   "cell_type": "code",
   "execution_count": null,
   "metadata": {},
   "outputs": [],
   "source": [
    "df_baseline = df_z.copy()\n",
    "cov_baseline = '+'.join(covariates_baseline)"
   ]
  },
  {
   "cell_type": "code",
   "execution_count": null,
   "metadata": {},
   "outputs": [],
   "source": [
    "for targets, target_type in zip([steps_c, steps_d], ['case', 'death']):\n",
    "\n",
    "    cor_df, r2_df, coef_df = glm(df_baseline, targets, cov_baseline)\n",
    "\n",
    "    fig, axes = plt.subplots(1, 2, figsize=(9, 4))\n",
    "    cor_df.plot(ax=axes[0], marker='o')\n",
    "    axes[0].legend()\n",
    "    r2_df.plot(ax=axes[1], marker='o')\n",
    "    axes[1].legend()\n",
    "\n",
    "    coef_df.to_csv(f'{result_folder}/{target_type}/{date}_coef_baseline.csv', float_format='%.5f')\n",
    "    cor_df.to_csv(f'{result_folder}/{target_type}/{date}_cor_baseline.csv', float_format='%.5f')\n",
    "    r2_df.to_csv(f'{result_folder}/{target_type}/{date}_r2_baseline.csv', float_format='%.5f')\n",
    "\n",
    "df_baseline.to_csv(data_fname_glm_baseline, float_format='%.2f')\n",
    "print(df_baseline.shape)"
   ]
  },
  {
   "cell_type": "markdown",
   "metadata": {},
   "source": [
    "# Combine correlation of full and baseline"
   ]
  },
  {
   "cell_type": "code",
   "execution_count": null,
   "metadata": {},
   "outputs": [],
   "source": [
    "for target_type in ['case', 'death']:\n",
    "\n",
    "    cor_full_fname = f'{result_folder}/{target_type}/{date}_cor_full.csv'\n",
    "    cor_full = pd.read_csv(cor_full_fname, index_col=0)\n",
    "    cor_full = cor_full.rename(columns={col: col + '_full' for col in cor_full.columns})\n",
    "\n",
    "    cor_baseline_fname = f'{result_folder}/{target_type}/{date}_cor_baseline.csv'\n",
    "    cor_baseline = pd.read_csv(cor_baseline_fname, index_col=0)\n",
    "    cor_baseline = cor_baseline.rename(columns={col: col + '_baseline' for col in cor_baseline.columns})\n",
    "\n",
    "    cor_df = pd.concat([cor_full, cor_baseline], axis=1)\n",
    "    cor_df.index.name = 'date'\n",
    "    cor_df.to_csv(f'{result_folder}/{target_type}/{date}_cor.csv', float_format='%.5f')"
   ]
  },
  {
   "cell_type": "code",
   "execution_count": null,
   "metadata": {},
   "outputs": [],
   "source": [
    "for target_type in ['case', 'death']:\n",
    "\n",
    "    r2_full_fname = f'{result_folder}/{target_type}/{date}_r2_full.csv'\n",
    "    r2_full = pd.read_csv(r2_full_fname, index_col=0)\n",
    "    r2_full = r2_full.rename(columns={col: col + '_full' for col in r2_full.columns})\n",
    "\n",
    "    r2_baseline_fname = f'{result_folder}/{target_type}/{date}_r2_baseline.csv'\n",
    "    r2_baseline = pd.read_csv(r2_baseline_fname, index_col=0)\n",
    "    r2_baseline = r2_baseline.rename(columns={col: col + '_baseline' for col in r2_baseline.columns})\n",
    "\n",
    "    r2_df = pd.concat([r2_full, r2_baseline], axis=1)\n",
    "    r2_df.index.name = 'date'\n",
    "    r2_df.to_csv(f'{result_folder}/{target_type}/{date}_r2.csv', float_format='%.5f')"
   ]
  },
  {
   "cell_type": "code",
   "execution_count": null,
   "metadata": {},
   "outputs": [],
   "source": [
    "r2_df"
   ]
  },
  {
   "cell_type": "code",
   "execution_count": null,
   "metadata": {},
   "outputs": [],
   "source": []
  }
 ],
 "metadata": {
  "kernelspec": {
   "display_name": "Python 3",
   "language": "python",
   "name": "python3"
  },
  "language_info": {
   "codemirror_mode": {
    "name": "ipython",
    "version": 3
   },
   "file_extension": ".py",
   "mimetype": "text/x-python",
   "name": "python",
   "nbconvert_exporter": "python",
   "pygments_lexer": "ipython3",
   "version": "3.7.0"
  }
 },
 "nbformat": 4,
 "nbformat_minor": 2
}
