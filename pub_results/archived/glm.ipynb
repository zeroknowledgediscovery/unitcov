version https://git-lfs.github.com/spec/v1
oid sha256:220553a4d386c05b024b1feb224d6a9f28feb385fff1864062d71fd3c1ab9de7
size 192531
