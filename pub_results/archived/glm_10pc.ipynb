version https://git-lfs.github.com/spec/v1
oid sha256:b89e9c8ecd74c284aa96c2a8c4714fb7f494d0af2aac75e338651bb4651ff7bf
size 208851
