version https://git-lfs.github.com/spec/v1
oid sha256:34653c5f6b6e18a93d28aaff87cc6a2869c968dd412bc6048e94f87cd0319d77
size 500828
