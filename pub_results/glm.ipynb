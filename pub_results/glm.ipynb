version https://git-lfs.github.com/spec/v1
oid sha256:86181a3405ea8fee7daee71206402c9486ba325ef2baf5520aeffe9a4ec4e7fa
size 190343
