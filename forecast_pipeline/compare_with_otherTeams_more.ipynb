version https://git-lfs.github.com/spec/v1
oid sha256:a501441ff3a84aa5158fa2fc85d2822c0e80dc47fbd4343f25681a07deb70831
size 14019
