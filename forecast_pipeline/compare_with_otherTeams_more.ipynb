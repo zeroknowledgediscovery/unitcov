{
 "cells": [
  {
   "cell_type": "code",
   "execution_count": 7,
   "metadata": {},
   "outputs": [],
   "source": [
    "import pandas as pd\n",
    "import numpy as np\n",
    "from glob import glob\n",
    "import pylab as plt\n",
    "import seaborn as sns\n",
    "%matplotlib inline"
   ]
  },
  {
   "cell_type": "code",
   "execution_count": 8,
   "metadata": {},
   "outputs": [],
   "source": [
    "teams = ['Columbia_UNC-SurvCon', 'QJHong-Encounter']"
   ]
  },
  {
   "cell_type": "code",
   "execution_count": 33,
   "metadata": {
    "scrolled": false
   },
   "outputs": [
    {
     "name": "stdout",
     "output_type": "stream",
     "text": [
      "\n",
      "=========== case ===========\n",
      "CovidAnalytics-DELPHI    174477.600000\n",
      "JHU_IDD-CovidSP          138125.684211\n",
      "IowaStateLW-STEM          92378.000000\n",
      "Covid19Sim-Simulator      91198.611111\n",
      "RobertWalraven-ESG        87452.263158\n",
      "LANL-GrowthRate           79009.000000\n",
      "UCLA-SuEIR                72387.150000\n",
      "CU-nochange               68956.588235\n",
      "COVIDhub-baseline         65962.700000\n",
      "Columbia_UNC-SurvCon      64173.500000\n",
      "COVIDhub-ensemble         62720.000000\n",
      "USC-SI_kJalpha            62424.600000\n",
      "UMich-RidgeTfReg          61521.150000\n",
      "OliverWyman-Navigator     61183.100000\n",
      "Geneva-DetGrowth          60886.100000\n",
      "QJHong-Encounter          57657.100000\n",
      "LNQ-ens1                  55341.950000\n",
      "UnIT                      39847.150000\n",
      "dtype: float64\n",
      "\n",
      "=========== death ===========\n",
      "UMich-RidgeTfReg         1487.500000\n",
      "RobertWalraven-ESG       1457.421053\n",
      "LANL-GrowthRate          1093.800000\n",
      "JHU_IDD-CovidSP          1029.100000\n",
      "Covid19Sim-Simulator      877.333333\n",
      "IowaStateLW-STEM          845.105263\n",
      "USC-SI_kJalpha            809.052632\n",
      "UnIT                      737.300000\n",
      "Geneva-DetGrowth          727.100000\n",
      "UCLA-SuEIR                726.750000\n",
      "COVIDhub-baseline         674.400000\n",
      "CU-scenario_low           641.700000\n",
      "CU-nochange               627.000000\n",
      "CU-scenario_mid           626.700000\n",
      "CU-select                 620.950000\n",
      "CU-scenario_high          620.750000\n",
      "LNQ-ens1                  612.421053\n",
      "Columbia_UNC-SurvCon      560.894737\n",
      "OliverWyman-Navigator     556.200000\n",
      "QJHong-Encounter          528.400000\n",
      "COVIDhub-ensemble         507.700000\n",
      "dtype: float64\n"
     ]
    },
    {
     "name": "stderr",
     "output_type": "stream",
     "text": [
      "/home/yihuang/.local/lib/python3.7/site-packages/ipykernel_launcher.py:29: FutureWarning: Sorting because non-concatenation axis is not aligned. A future version\n",
      "of pandas will change to not sort by default.\n",
      "\n",
      "To accept the future behavior, pass 'sort=False'.\n",
      "\n",
      "To retain the current behavior and silence the warning, pass 'sort=True'.\n",
      "\n"
     ]
    }
   ],
   "source": [
    "for target_type in ['case', 'death']: \n",
    "    print(f'\\n=========== {target_type} ===========')\n",
    "    otherTeam_fname = f'../otherTeam/data_processed/otherTeam_{target_type}.csv'\n",
    "    df_otherTeams = pd.read_csv(otherTeam_fname, index_col=0)\n",
    "    # df_otherTeams = df_otherTeams.rename(columns={col: col.split('-')[0] for col in df_otherTeams.columns})\n",
    "    # print(df_otherTeams)\n",
    "    \n",
    "    ours_fname = f'results_time/methodCompare_{target_type}_ours.csv'\n",
    "    df_ours = pd.read_csv(ours_fname, index_col=0)[['gnd', 'prd-0_1']].rename(columns={'prd-0_1': 'UnIT'})\n",
    "    # print(df_ours)\n",
    "    \n",
    "    df_combined = df_ours.join(df_otherTeams, how='outer')# .dropna().\n",
    "    df_combined = df_combined.loc['2020-07-18':]\n",
    "    # print(df_combined)\n",
    "    \n",
    "    df_err = pd.DataFrame(index=df_combined.index)\n",
    "    for col in df_combined.columns:\n",
    "        if col == 'gnd':\n",
    "            continue\n",
    "        df_err[col] = df_combined[col] - df_combined['gnd']\n",
    "    mabs = df_err.abs().mean().sort_values(ascending=False)#[-10:]\n",
    "    df_mabs = pd.DataFrame({'team': mabs.index, 'err': mabs.values})\n",
    "    df_mabs.to_csv(f'results_time/compare_with_otherTeams_{target_type}_err_raw.csv', index=False, float_format='%.0f')\n",
    "    # rmse = df_err.pow(2).mean().pow(.5).sort_values()\n",
    "\n",
    "    print(mabs)\n",
    "    # print(rmse)\n",
    "\n",
    "    df_combined = pd.concat([df_otherTeams, df_ours], axis=1, join='outer').round(0)\n",
    "    df_combined.to_csv(f'results_time/compare_with_otherTeams_{target_type}.csv', float_format='%.0f')"
   ]
  },
  {
   "cell_type": "code",
   "execution_count": 23,
   "metadata": {
    "scrolled": false
   },
   "outputs": [],
   "source": [
    "# method = 0\n",
    "# for target_type in ['case', 'death']:\n",
    "#     df_combined = pd.read_csv(f'results_time/compare_with_otherTeams_{target_type}.csv', index_col=0)\n",
    "\n",
    "#     fig, axes = plt.subplots(1, 2, figsize=(14, 5))\n",
    "#     cols = ['Columbia_1', 'QJHong_1', f'prd-{method}_1', 'gnd']\n",
    "\n",
    "#     df_tmp = df_combined.dropna()\n",
    "\n",
    "#     for col in cols:\n",
    "#         if col == 'gnd':\n",
    "#             continue\n",
    "#         err = (df_tmp[col] - df_tmp['gnd']).values\n",
    "#         rmse = np.sqrt((err ** 2).mean())\n",
    "#         mabs = np.abs(err).mean()\n",
    "#         sns.distplot(err, ax=axes[0], label=f'{col}\\nmabs={mabs:.2e}')\n",
    "#         sns.distplot(err, ax=axes[1], label=f'{col}\\nrmse={rmse:.2e}')\n",
    "#         axes[0].legend()\n",
    "#         axes[1].legend()\n",
    "#         axes[0].set_title(f'{target_type} mean absolute error', fontsize=15)\n",
    "#         axes[1].set_title(f'{target_type} mean squared error', fontsize=15)"
   ]
  },
  {
   "cell_type": "code",
   "execution_count": 17,
   "metadata": {},
   "outputs": [],
   "source": [
    "# cols = ['Columbia_1', 'QJHong_1', f'prd-{method}_1']\n",
    "\n",
    "# for target_type in ['case', 'death']:\n",
    "    \n",
    "#     prd_fname = f'results_time/compare_with_otherTeams_{target_type}.csv'\n",
    "#     err_fname = f'results_time/compare_with_otherTeams_{target_type}_err.csv'\n",
    "    \n",
    "#     df_combined = pd.read_csv(prd_fname, index_col=0).dropna()\n",
    "    \n",
    "#     df_err = pd.DataFrame(index=df_combined.index)\n",
    "#     for col in cols:\n",
    "#         df_err[col] = df_combined[col] - df_combined['gnd']\n",
    "    \n",
    "#     print(df_err)\n",
    "#     df_err.to_csv(err_fname, header=False, index=False, sep=' ', float_format='%.0f')"
   ]
  },
  {
   "cell_type": "code",
   "execution_count": 52,
   "metadata": {},
   "outputs": [],
   "source": [
    "err_dfs = [] \n",
    "for target_type in ['case', 'death']:\n",
    "    tmp = pd.read_csv(f'results_time/compare_with_otherTeams_{target_type}_err_raw.csv', index_col=0)\n",
    "    tmp.rename(columns={'err': f'err_{target_type}'}, inplace=True)\n",
    "    err_dfs.append(tmp)\n",
    "    \n",
    "df_err = pd.concat(err_dfs, axis=1,join='inner')"
   ]
  },
  {
   "cell_type": "code",
   "execution_count": 55,
   "metadata": {},
   "outputs": [
    {
     "name": "stderr",
     "output_type": "stream",
     "text": [
      "/home/yihuang/.local/lib/python3.7/site-packages/ipykernel_launcher.py:6: FutureWarning: The signature of `Series.to_csv` was aligned to that of `DataFrame.to_csv`, and argument 'header' will change its default value from False to True: please pass an explicit value to suppress this warning.\n",
      "  \n",
      "/home/yihuang/.local/lib/python3.7/site-packages/ipykernel_launcher.py:7: FutureWarning: The signature of `Series.to_csv` was aligned to that of `DataFrame.to_csv`, and argument 'header' will change its default value from False to True: please pass an explicit value to suppress this warning.\n",
      "  import sys\n"
     ]
    }
   ],
   "source": [
    "func = lambda x: x.split('-')[0]\n",
    "df_err_case = df_err['err_case'].sort_values(ascending=False)[-15:].copy()\n",
    "df_err_case.rename(index={ind: func(ind) for ind in df_err_case.index}, inplace=True)\n",
    "df_err_death = df_err['err_death'].sort_values(ascending=False)[-15:].copy()\n",
    "df_err_death.rename(index={ind: func(ind) for ind in df_err_death.index}, inplace=True)\n",
    "df_err_case.to_csv(f'results_time/compare_with_otherTeams_case_err_raw.csv')\n",
    "df_err_death.to_csv(f'results_time/compare_with_otherTeams_death_err_raw.csv')"
   ]
  },
  {
   "cell_type": "code",
   "execution_count": null,
   "metadata": {},
   "outputs": [],
   "source": []
  }
 ],
 "metadata": {
  "kernelspec": {
   "display_name": "Python 3",
   "language": "python",
   "name": "python3"
  },
  "language_info": {
   "codemirror_mode": {
    "name": "ipython",
    "version": 3
   },
   "file_extension": ".py",
   "mimetype": "text/x-python",
   "name": "python",
   "nbconvert_exporter": "python",
   "pygments_lexer": "ipython3",
   "version": "3.7.0"
  }
 },
 "nbformat": 4,
 "nbformat_minor": 2
}
