version https://git-lfs.github.com/spec/v1
oid sha256:82eae7107c4df61e7e4a51a0bc04eb47b327be42d615fe3de8828eeca1357b3c
size 306520
