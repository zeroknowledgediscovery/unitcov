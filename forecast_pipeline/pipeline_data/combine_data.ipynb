{
 "cells": [
  {
   "cell_type": "code",
   "execution_count": 1,
   "metadata": {},
   "outputs": [],
   "source": [
    "import pandas as pd"
   ]
  },
  {
   "cell_type": "markdown",
   "metadata": {},
   "source": [
    "## SES data"
   ]
  },
  {
   "cell_type": "code",
   "execution_count": 2,
   "metadata": {},
   "outputs": [
    {
     "data": {
      "text/plain": [
       "(3193, 3)"
      ]
     },
     "execution_count": 2,
     "metadata": {},
     "output_type": "execute_result"
    }
   ],
   "source": [
    "pe = pd.read_csv('PovertyEstimates.csv', thousands=',').rename(columns={'FIPStxt': 'fips'})\n",
    "pe['fips'] = pe['fips'].apply(lambda x: str(x).zfill(5))\n",
    "pe = pe.set_index('fips')[['POVALL_2018', 'PCTPOVALL_2018', 'MEDHHINC_2018']]\n",
    "pe.shape"
   ]
  },
  {
   "cell_type": "markdown",
   "metadata": {},
   "source": [
    "## Rural data"
   ]
  },
  {
   "cell_type": "code",
   "execution_count": 3,
   "metadata": {},
   "outputs": [
    {
     "name": "stdout",
     "output_type": "stream",
     "text": [
      "(3142, 2)\n"
     ]
    }
   ],
   "source": [
    "df_rural = pd.read_csv('County_Rural_Lookup.csv', thousands=',', usecols=[0, 7])\n",
    "df_rural = df_rural.rename(columns={'2015 GEOID': 'fips', '2010 Census \\nPercent Rural': 'perc_rural_pop'})\n",
    "df_rural['perc_urban_pop'] = 100 - df_rural['perc_rural_pop']\n",
    "df_rural = df_rural.set_index('fips').dropna()\n",
    "print(df_rural.shape)"
   ]
  },
  {
   "cell_type": "markdown",
   "metadata": {},
   "source": [
    "## Demographic data"
   ]
  },
  {
   "cell_type": "code",
   "execution_count": 4,
   "metadata": {},
   "outputs": [],
   "source": [
    "dm_raw = pd.read_csv('cc-est2019-alldata.csv', encoding='ISO-8859-1', dtype={'STATE': str, 'COUNTY': str})\n",
    "dm_raw = dm_raw[dm_raw.YEAR==12]\n",
    "dm_raw['fips'] = dm_raw.STATE + dm_raw.COUNTY\n",
    "dm_raw = dm_raw.set_index('fips')"
   ]
  },
  {
   "cell_type": "code",
   "execution_count": 5,
   "metadata": {},
   "outputs": [],
   "source": [
    "dm_raw['minority'] = dm_raw.TOT_POP - (dm_raw.WA_MALE + dm_raw.WA_FEMALE)\n",
    "dm_raw['black'] = dm_raw.BA_MALE + dm_raw.BA_FEMALE\n",
    "dm_raw['hispanic'] = dm_raw.H_MALE + dm_raw.H_FEMALE\n",
    "dm_all = dm_raw[dm_raw.AGEGRP == 0][['minority', 'black', 'hispanic', 'TOT_POP']]"
   ]
  },
  {
   "cell_type": "code",
   "execution_count": 6,
   "metadata": {},
   "outputs": [],
   "source": [
    "dm_old = dm_raw[['AGEGRP', 'TOT_POP']][dm_raw.AGEGRP >= 14].reset_index().groupby('fips').sum()\n",
    "dm_old = dm_old.rename(columns={'TOT_POP': '65yrs'}).drop(['AGEGRP'], axis=1)"
   ]
  },
  {
   "cell_type": "code",
   "execution_count": 7,
   "metadata": {},
   "outputs": [],
   "source": [
    "dm = dm_old.join(dm_all)"
   ]
  },
  {
   "cell_type": "code",
   "execution_count": 8,
   "metadata": {},
   "outputs": [],
   "source": [
    "columns = dm.columns\n",
    "for c in ['65yrs', 'minority', 'black', 'hispanic']:\n",
    "    pc = 'perc_' + c\n",
    "    dm[pc] = dm[c] / dm.TOT_POP"
   ]
  },
  {
   "cell_type": "markdown",
   "metadata": {},
   "source": [
    "### Sanity check for demographic dataframe (dm)\n",
    "passed"
   ]
  },
  {
   "cell_type": "code",
   "execution_count": 9,
   "metadata": {},
   "outputs": [
    {
     "name": "stdout",
     "output_type": "stream",
     "text": [
      "black percentage = 13.4%\n",
      "hispanic percentage = 18.5%\n",
      "minority percentage = 23.7%\n",
      "population over 65yrs = 54058263.0\n"
     ]
    }
   ],
   "source": [
    "summation = dm.sum(axis=0)\n",
    "perc_black = summation['black'] / summation['TOT_POP']\n",
    "print(f'black percentage = {100 * perc_black:.1f}%')\n",
    "perc_hispanic = summation['hispanic'] / summation['TOT_POP']\n",
    "print(f'hispanic percentage = {100 * perc_hispanic:.1f}%')\n",
    "perc_minority = summation['minority'] / summation['TOT_POP']\n",
    "print(f'minority percentage = {100 * perc_minority:.1f}%')\n",
    "print(f\"population over 65yrs = {summation['65yrs']}\")"
   ]
  },
  {
   "cell_type": "markdown",
   "metadata": {},
   "source": [
    "## Risk data"
   ]
  },
  {
   "cell_type": "code",
   "execution_count": 10,
   "metadata": {},
   "outputs": [
    {
     "name": "stdout",
     "output_type": "stream",
     "text": [
      "(3094, 15)\n"
     ]
    }
   ],
   "source": [
    "rf = pd.read_csv('county_pop_risk_covid.csv', dtype={'county': str})\n",
    "rf = rf.rename(columns={'county': 'fips'}).set_index('fips')\n",
    "rf.fillna(rf.mean(), inplace=True)\n",
    "print(rf.shape)"
   ]
  },
  {
   "cell_type": "markdown",
   "metadata": {},
   "source": [
    "## Combine demographic, SES, rural, risk"
   ]
  },
  {
   "cell_type": "code",
   "execution_count": 11,
   "metadata": {},
   "outputs": [
    {
     "name": "stdout",
     "output_type": "stream",
     "text": [
      "Index(['65yrs', 'minority', 'black', 'hispanic', 'population', 'perc_65yrs',\n",
      "       'perc_minority', 'perc_black', 'perc_hispanic', 'poverty',\n",
      "       'perc_poverty', 'income', 'risk_flu', 'perc_rural_pop',\n",
      "       'perc_urban_pop'],\n",
      "      dtype='object')\n"
     ]
    }
   ],
   "source": [
    "risk_cols = ['risk_flu']\n",
    "df = dm.join(pe, how='inner')\\\n",
    "    .join(rf[risk_cols], how='inner')\\\n",
    "    .join(df_rural, how='inner')\\\n",
    "    .rename(columns={\n",
    "        'POVALL_2018': 'poverty',\n",
    "        'PCTPOVALL_2018': 'perc_poverty', \n",
    "        'MEDHHINC_2018': 'income', \n",
    "        'TOT_POP': 'population'})\n",
    "print(df.columns)"
   ]
  },
  {
   "cell_type": "code",
   "execution_count": 13,
   "metadata": {},
   "outputs": [
    {
     "name": "stdout",
     "output_type": "stream",
     "text": [
      "(3094, 15)\n"
     ]
    }
   ],
   "source": [
    "print(df.shape)\n",
    "df.to_csv('data_non-covid.csv', float_format='%.6f')"
   ]
  }
 ],
 "metadata": {
  "kernelspec": {
   "display_name": "Python 3",
   "language": "python",
   "name": "python3"
  },
  "language_info": {
   "codemirror_mode": {
    "name": "ipython",
    "version": 3
   },
   "file_extension": ".py",
   "mimetype": "text/x-python",
   "name": "python",
   "nbconvert_exporter": "python",
   "pygments_lexer": "ipython3",
   "version": "3.7.0"
  }
 },
 "nbformat": 4,
 "nbformat_minor": 2
}
