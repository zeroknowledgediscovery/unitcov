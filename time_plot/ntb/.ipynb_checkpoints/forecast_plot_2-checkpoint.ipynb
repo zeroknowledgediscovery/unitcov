{
 "cells": [
  {
   "cell_type": "code",
   "execution_count": 1,
   "metadata": {},
   "outputs": [],
   "source": [
    "import pandas as pd\n",
    "import numpy as np\n",
    "from datetime import timedelta\n",
    "import pylab as plt\n",
    "%matplotlib inline\n",
    "\n",
    "import seaborn as sns"
   ]
  },
  {
   "cell_type": "markdown",
   "metadata": {},
   "source": [
    "## Combine, add a zed column, and plot (if needed)"
   ]
  },
  {
   "cell_type": "code",
   "execution_count": 2,
   "metadata": {},
   "outputs": [],
   "source": [
    "def combine(csv_ours, csv_otherTeams, zed_func, plot=False):\n",
    "    \n",
    "    df_ours = pd.read_csv(csv_ours, index_col=0)\n",
    "    dates = pd.date_range(start='2020-04-11', freq='7D', periods=len(df_ours))\n",
    "    dates_1 = dates + timedelta(days=7)\n",
    "    df_otherTeams = pd.read_csv(csv_otherTeams, index_col=0, parse_dates=True)\n",
    "    \n",
    "    cols = [x for x in df_ours.columns if x.endswith('1')]\n",
    "    df_ours = df_ours[cols].copy()\n",
    "    df_ours.index = dates_1\n",
    "    \n",
    "    df_combined = df_otherTeams.join(df_ours, how='outer')\n",
    "    \n",
    "    #========================== add the zed column =======================START\n",
    "    df_combined['zed'] = zed_func(df_combined)\n",
    "    #========================== add the zed column =======================END\n",
    "    \n",
    "    if plot:\n",
    "        fig, ax = plt.subplots(1, 1, figsize=(8, 6))\n",
    "    cols = ['Columbia-UNC-SurvCon', 'QJHong-Encounter', 'zed']\n",
    "    df_tmp = df_combined.loc['2020-07-25':'2020-10-31', :]\n",
    "\n",
    "    errs = []\n",
    "    for col in cols:\n",
    "        if col == 'grd1':\n",
    "            continue\n",
    "        err_vec = ((df_tmp[col] - df_tmp['grd1']) / df_tmp['grd1']).values\n",
    "        err_vec = (df_tmp[col] - df_tmp['grd1']).values\n",
    "        # mse = np.sqrt((err ** 2).mean())\n",
    "        err = np.abs(err_vec).mean()\n",
    "        errs.append(err)\n",
    "        if plot:\n",
    "            sns.distplot(err_vec, ax=ax, label=f'{col}\\nmse={err:.2e}')\n",
    "    if plot:\n",
    "        ax.legend()\n",
    "        ax.set_title(f'One-Week-Ahead {target} Prediction Error', fontsize=15)\n",
    "    \n",
    "        fig, ax = plt.subplots(1, 1, figsize=(15, 7.5))\n",
    "        df_combined['grd1'].plot(ax=ax, linewidth=5)\n",
    "        df_combined[['Columbia-UNC-SurvCon', 'QJHong-Encounter']].plot(ax=ax, marker='v')\n",
    "        df_combined[['zed']].plot(ax=ax, marker='o', style='--', linewidth=2, ms=5)\n",
    "        ax.set_title(f'One-Week-Ahead {target} Prediction Error', fontsize=15)\n",
    "    \n",
    "    return errs"
   ]
  },
  {
   "cell_type": "markdown",
   "metadata": {},
   "source": [
    "## Functions to get the zed columns \n",
    "add new functions here"
   ]
  },
  {
   "cell_type": "code",
   "execution_count": 3,
   "metadata": {},
   "outputs": [],
   "source": [
    "def zed_func_1(x, c=.5, gamma=0.000065):\n",
    "    zed = (x['ET1'] + x['RF1'] + c * x['TF1']) / (2 + c) \n",
    "    arr = zed.diff().fillna(0).values\n",
    "    panel = np.array([np.exp(-gamma * a) for a in arr])\n",
    "    return zed * panel\n",
    "\n",
    "def zed_func_2(x, c=.5, d=2.6):\n",
    "    zed = (x['ET1'] + x['RF1'] + c * x['TF1']) / (2 + c) \n",
    "    A = zed.ewm(alpha=.6).mean()\n",
    "    B = x['grd1'].values\n",
    "    B = np.append(B[0], B[:-1])\n",
    "    A = d * A + (1 - d) * B\n",
    "    return A\n",
    "\n",
    "def zed_func_3(x, c=.5):\n",
    "    zed = ((x['ET1'] + x['RF1'] + c * x['TF1']) / (2 + c)).values \n",
    "    \n",
    "    results = [zed[0], zed[1]]\n",
    "    grd = x['grd1'].values\n",
    "    for i in range(2, len(x)):\n",
    "        r = grd[i - 1] - .5 * grd[i - 2] + .5 * zed[i]\n",
    "        results.append(r)\n",
    "    return results"
   ]
  },
  {
   "cell_type": "raw",
   "metadata": {},
   "source": [
    "target = 'death'\n",
    "idx = '00'\n",
    "csv_ours = f'results_forecast/forecast_US_{target}_tweak_{idx}.csv'\n",
    "csv_otherTeams = f'../CovidTeam_results/forecast_otherTeam_1-wk-ahead-inc-{target}.csv'\n",
    "\n",
    "errs = combine(csv_ours, csv_otherTeams, zed_func=zed_func_3)"
   ]
  },
  {
   "cell_type": "markdown",
   "metadata": {},
   "source": [
    "## Run through all run results to test zed functions"
   ]
  },
  {
   "cell_type": "code",
   "execution_count": 4,
   "metadata": {},
   "outputs": [
    {
     "data": {
      "text/html": [
       "<div>\n",
       "<style scoped>\n",
       "    .dataframe tbody tr th:only-of-type {\n",
       "        vertical-align: middle;\n",
       "    }\n",
       "\n",
       "    .dataframe tbody tr th {\n",
       "        vertical-align: top;\n",
       "    }\n",
       "\n",
       "    .dataframe thead th {\n",
       "        text-align: right;\n",
       "    }\n",
       "</style>\n",
       "<table border=\"1\" class=\"dataframe\">\n",
       "  <thead>\n",
       "    <tr style=\"text-align: right;\">\n",
       "      <th></th>\n",
       "      <th>func0</th>\n",
       "      <th>func1</th>\n",
       "      <th>func2</th>\n",
       "    </tr>\n",
       "  </thead>\n",
       "  <tbody>\n",
       "    <tr>\n",
       "      <th>mean</th>\n",
       "      <td>449.538850</td>\n",
       "      <td>609.756863</td>\n",
       "      <td>563.469667</td>\n",
       "    </tr>\n",
       "    <tr>\n",
       "      <th>std</th>\n",
       "      <td>16.871623</td>\n",
       "      <td>49.877527</td>\n",
       "      <td>11.039252</td>\n",
       "    </tr>\n",
       "  </tbody>\n",
       "</table>\n",
       "</div>"
      ],
      "text/plain": [
       "           func0       func1       func2\n",
       "mean  449.538850  609.756863  563.469667\n",
       "std    16.871623   49.877527   11.039252"
      ]
     },
     "execution_count": 4,
     "metadata": {},
     "output_type": "execute_result"
    }
   ],
   "source": [
    "target = 'death'\n",
    "idx = '00'\n",
    "zed_funcs = [zed_func_1, zed_func_2, zed_func_3]\n",
    "\n",
    "dfs = []\n",
    "for f, zed_func in enumerate(zed_funcs):\n",
    "    E = []\n",
    "    for i in range(20):\n",
    "        idx = str(i).zfill(2)\n",
    "        csv_ours = f'results_forecast/forecast_US_{target}_tweak_{idx}.csv'\n",
    "        csv_otherTeams = f'../CovidTeam_results/forecast_otherTeam_1-wk-ahead-inc-{target}.csv'\n",
    "        errs = combine(csv_ours, csv_otherTeams, zed_func=zed_func)\n",
    "        E.append(errs)\n",
    "    \n",
    "    df_tmp = pd.DataFrame(\n",
    "        data=E, \n",
    "        index=range(20), \n",
    "        columns=['Columbia-UNC-SurvCon', 'QJHong-Encounter', 'zed']\n",
    "    ).describe().loc[['mean', 'std'], ['zed']]\n",
    "    df_tmp.columns = [f'func{f}']\n",
    "\n",
    "    dfs.append(df_tmp)\n",
    "\n",
    "pd.concat(dfs, axis=1)"
   ]
  },
  {
   "cell_type": "code",
   "execution_count": null,
   "metadata": {},
   "outputs": [],
   "source": []
  }
 ],
 "metadata": {
  "kernelspec": {
   "display_name": "Python 3",
   "language": "python",
   "name": "python3"
  },
  "language_info": {
   "codemirror_mode": {
    "name": "ipython",
    "version": 3
   },
   "file_extension": ".py",
   "mimetype": "text/x-python",
   "name": "python",
   "nbconvert_exporter": "python",
   "pygments_lexer": "ipython3",
   "version": "3.7.0"
  }
 },
 "nbformat": 4,
 "nbformat_minor": 2
}
