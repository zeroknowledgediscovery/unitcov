{
 "cells": [
  {
   "cell_type": "code",
   "execution_count": 1,
   "metadata": {},
   "outputs": [],
   "source": [
    "import pandas as pd\n",
    "import numpy as np\n",
    "import pickle\n",
    "from sklearn.preprocessing import MinMaxScaler, StandardScaler\n",
    "\n",
    "import statsmodels.api as sm\n",
    "import statsmodels.formula.api as smf\n",
    "from patsy import dmatrices\n",
    "from statsmodels.stats.outliers_influence import variance_inflation_factor\n",
    "\n",
    "import pylab as plt\n",
    "%matplotlib inline\n",
    "\n",
    "import seaborn as sns"
   ]
  },
  {
   "cell_type": "markdown",
   "metadata": {},
   "source": [
    "## SES data"
   ]
  },
  {
   "cell_type": "code",
   "execution_count": 2,
   "metadata": {},
   "outputs": [
    {
     "data": {
      "text/plain": [
       "(3193, 3)"
      ]
     },
     "execution_count": 2,
     "metadata": {},
     "output_type": "execute_result"
    }
   ],
   "source": [
    "pe = pd.read_csv('../data/PovertyEstimates.csv', thousands=',').rename(columns={'FIPStxt': 'fips'})\n",
    "pe['fips'] = pe['fips'].apply(lambda x: str(x).zfill(5))\n",
    "pe = pe.set_index('fips')[['POVALL_2018', 'PCTPOVALL_2018', 'MEDHHINC_2018']]\n",
    "pe.shape"
   ]
  },
  {
   "cell_type": "markdown",
   "metadata": {},
   "source": [
    "## Rural data"
   ]
  },
  {
   "cell_type": "code",
   "execution_count": 3,
   "metadata": {},
   "outputs": [
    {
     "name": "stdout",
     "output_type": "stream",
     "text": [
      "(3142, 2)\n"
     ]
    }
   ],
   "source": [
    "df_rural = pd.read_csv('../data/County_Rural_Lookup.csv', thousands=',', usecols=[0, 7])\n",
    "df_rural = df_rural.rename(columns={'2015 GEOID': 'fips', '2010 Census \\nPercent Rural': 'perc_rural_pop'})\n",
    "df_rural['perc_urban_pop'] = 100 - df_rural['perc_rural_pop']\n",
    "df_rural = df_rural.set_index('fips').dropna()\n",
    "print(df_rural.shape)"
   ]
  },
  {
   "cell_type": "markdown",
   "metadata": {},
   "source": [
    "## Demographic data"
   ]
  },
  {
   "cell_type": "code",
   "execution_count": 4,
   "metadata": {},
   "outputs": [
    {
     "data": {
      "text/html": [
       "<div>\n",
       "<style scoped>\n",
       "    .dataframe tbody tr th:only-of-type {\n",
       "        vertical-align: middle;\n",
       "    }\n",
       "\n",
       "    .dataframe tbody tr th {\n",
       "        vertical-align: top;\n",
       "    }\n",
       "\n",
       "    .dataframe thead th {\n",
       "        text-align: right;\n",
       "    }\n",
       "</style>\n",
       "<table border=\"1\" class=\"dataframe\">\n",
       "  <thead>\n",
       "    <tr style=\"text-align: right;\">\n",
       "      <th></th>\n",
       "      <th>SUMLEV</th>\n",
       "      <th>STATE</th>\n",
       "      <th>COUNTY</th>\n",
       "      <th>STNAME</th>\n",
       "      <th>CTYNAME</th>\n",
       "      <th>YEAR</th>\n",
       "      <th>AGEGRP</th>\n",
       "      <th>TOT_POP</th>\n",
       "      <th>TOT_MALE</th>\n",
       "      <th>TOT_FEMALE</th>\n",
       "      <th>...</th>\n",
       "      <th>HWAC_MALE</th>\n",
       "      <th>HWAC_FEMALE</th>\n",
       "      <th>HBAC_MALE</th>\n",
       "      <th>HBAC_FEMALE</th>\n",
       "      <th>HIAC_MALE</th>\n",
       "      <th>HIAC_FEMALE</th>\n",
       "      <th>HAAC_MALE</th>\n",
       "      <th>HAAC_FEMALE</th>\n",
       "      <th>HNAC_MALE</th>\n",
       "      <th>HNAC_FEMALE</th>\n",
       "    </tr>\n",
       "    <tr>\n",
       "      <th>fips</th>\n",
       "      <th></th>\n",
       "      <th></th>\n",
       "      <th></th>\n",
       "      <th></th>\n",
       "      <th></th>\n",
       "      <th></th>\n",
       "      <th></th>\n",
       "      <th></th>\n",
       "      <th></th>\n",
       "      <th></th>\n",
       "      <th></th>\n",
       "      <th></th>\n",
       "      <th></th>\n",
       "      <th></th>\n",
       "      <th></th>\n",
       "      <th></th>\n",
       "      <th></th>\n",
       "      <th></th>\n",
       "      <th></th>\n",
       "      <th></th>\n",
       "      <th></th>\n",
       "    </tr>\n",
       "  </thead>\n",
       "  <tbody>\n",
       "    <tr>\n",
       "      <th>01001</th>\n",
       "      <td>50</td>\n",
       "      <td>01</td>\n",
       "      <td>001</td>\n",
       "      <td>Alabama</td>\n",
       "      <td>Autauga County</td>\n",
       "      <td>12</td>\n",
       "      <td>0</td>\n",
       "      <td>55869</td>\n",
       "      <td>27092</td>\n",
       "      <td>28777</td>\n",
       "      <td>...</td>\n",
       "      <td>778</td>\n",
       "      <td>687</td>\n",
       "      <td>89</td>\n",
       "      <td>93</td>\n",
       "      <td>40</td>\n",
       "      <td>27</td>\n",
       "      <td>15</td>\n",
       "      <td>19</td>\n",
       "      <td>16</td>\n",
       "      <td>11</td>\n",
       "    </tr>\n",
       "    <tr>\n",
       "      <th>01001</th>\n",
       "      <td>50</td>\n",
       "      <td>01</td>\n",
       "      <td>001</td>\n",
       "      <td>Alabama</td>\n",
       "      <td>Autauga County</td>\n",
       "      <td>12</td>\n",
       "      <td>1</td>\n",
       "      <td>3277</td>\n",
       "      <td>1713</td>\n",
       "      <td>1564</td>\n",
       "      <td>...</td>\n",
       "      <td>76</td>\n",
       "      <td>53</td>\n",
       "      <td>10</td>\n",
       "      <td>6</td>\n",
       "      <td>6</td>\n",
       "      <td>5</td>\n",
       "      <td>3</td>\n",
       "      <td>4</td>\n",
       "      <td>3</td>\n",
       "      <td>3</td>\n",
       "    </tr>\n",
       "    <tr>\n",
       "      <th>01001</th>\n",
       "      <td>50</td>\n",
       "      <td>01</td>\n",
       "      <td>001</td>\n",
       "      <td>Alabama</td>\n",
       "      <td>Autauga County</td>\n",
       "      <td>12</td>\n",
       "      <td>2</td>\n",
       "      <td>3465</td>\n",
       "      <td>1787</td>\n",
       "      <td>1678</td>\n",
       "      <td>...</td>\n",
       "      <td>83</td>\n",
       "      <td>59</td>\n",
       "      <td>2</td>\n",
       "      <td>10</td>\n",
       "      <td>8</td>\n",
       "      <td>2</td>\n",
       "      <td>2</td>\n",
       "      <td>0</td>\n",
       "      <td>1</td>\n",
       "      <td>1</td>\n",
       "    </tr>\n",
       "    <tr>\n",
       "      <th>01001</th>\n",
       "      <td>50</td>\n",
       "      <td>01</td>\n",
       "      <td>001</td>\n",
       "      <td>Alabama</td>\n",
       "      <td>Autauga County</td>\n",
       "      <td>12</td>\n",
       "      <td>3</td>\n",
       "      <td>3851</td>\n",
       "      <td>1977</td>\n",
       "      <td>1874</td>\n",
       "      <td>...</td>\n",
       "      <td>84</td>\n",
       "      <td>67</td>\n",
       "      <td>11</td>\n",
       "      <td>12</td>\n",
       "      <td>2</td>\n",
       "      <td>2</td>\n",
       "      <td>1</td>\n",
       "      <td>2</td>\n",
       "      <td>2</td>\n",
       "      <td>1</td>\n",
       "    </tr>\n",
       "    <tr>\n",
       "      <th>01001</th>\n",
       "      <td>50</td>\n",
       "      <td>01</td>\n",
       "      <td>001</td>\n",
       "      <td>Alabama</td>\n",
       "      <td>Autauga County</td>\n",
       "      <td>12</td>\n",
       "      <td>4</td>\n",
       "      <td>3659</td>\n",
       "      <td>1854</td>\n",
       "      <td>1805</td>\n",
       "      <td>...</td>\n",
       "      <td>55</td>\n",
       "      <td>68</td>\n",
       "      <td>7</td>\n",
       "      <td>6</td>\n",
       "      <td>4</td>\n",
       "      <td>5</td>\n",
       "      <td>0</td>\n",
       "      <td>4</td>\n",
       "      <td>3</td>\n",
       "      <td>0</td>\n",
       "    </tr>\n",
       "  </tbody>\n",
       "</table>\n",
       "<p>5 rows × 80 columns</p>\n",
       "</div>"
      ],
      "text/plain": [
       "       SUMLEV STATE COUNTY   STNAME         CTYNAME  YEAR  AGEGRP  TOT_POP  \\\n",
       "fips                                                                         \n",
       "01001      50    01    001  Alabama  Autauga County    12       0    55869   \n",
       "01001      50    01    001  Alabama  Autauga County    12       1     3277   \n",
       "01001      50    01    001  Alabama  Autauga County    12       2     3465   \n",
       "01001      50    01    001  Alabama  Autauga County    12       3     3851   \n",
       "01001      50    01    001  Alabama  Autauga County    12       4     3659   \n",
       "\n",
       "       TOT_MALE  TOT_FEMALE  ...  HWAC_MALE  HWAC_FEMALE  HBAC_MALE  \\\n",
       "fips                         ...                                      \n",
       "01001     27092       28777  ...        778          687         89   \n",
       "01001      1713        1564  ...         76           53         10   \n",
       "01001      1787        1678  ...         83           59          2   \n",
       "01001      1977        1874  ...         84           67         11   \n",
       "01001      1854        1805  ...         55           68          7   \n",
       "\n",
       "       HBAC_FEMALE  HIAC_MALE  HIAC_FEMALE  HAAC_MALE  HAAC_FEMALE  HNAC_MALE  \\\n",
       "fips                                                                            \n",
       "01001           93         40           27         15           19         16   \n",
       "01001            6          6            5          3            4          3   \n",
       "01001           10          8            2          2            0          1   \n",
       "01001           12          2            2          1            2          2   \n",
       "01001            6          4            5          0            4          3   \n",
       "\n",
       "       HNAC_FEMALE  \n",
       "fips                \n",
       "01001           11  \n",
       "01001            3  \n",
       "01001            1  \n",
       "01001            1  \n",
       "01001            0  \n",
       "\n",
       "[5 rows x 80 columns]"
      ]
     },
     "execution_count": 4,
     "metadata": {},
     "output_type": "execute_result"
    }
   ],
   "source": [
    "dm_raw = pd.read_csv('../data/cc-est2019-alldata.csv', encoding='ISO-8859-1', dtype={'STATE': str, 'COUNTY': str})\n",
    "dm_raw = dm_raw[dm_raw.YEAR==12]\n",
    "dm_raw['fips'] = dm_raw.STATE + dm_raw.COUNTY\n",
    "dm_raw = dm_raw.set_index('fips')\n",
    "dm_raw.head()"
   ]
  },
  {
   "cell_type": "code",
   "execution_count": 5,
   "metadata": {},
   "outputs": [],
   "source": [
    "dm_raw['minority'] = dm_raw.TOT_POP - (dm_raw.WA_MALE + dm_raw.WA_FEMALE)\n",
    "dm_raw['black'] = dm_raw.BA_MALE + dm_raw.BA_FEMALE\n",
    "dm_raw['hispanic'] = dm_raw.H_MALE + dm_raw.H_FEMALE\n",
    "dm_all = dm_raw[dm_raw.AGEGRP == 0][['minority', 'black', 'hispanic', 'TOT_POP']]"
   ]
  },
  {
   "cell_type": "code",
   "execution_count": 6,
   "metadata": {},
   "outputs": [],
   "source": [
    "dm_old = dm_raw[['AGEGRP', 'TOT_POP']][dm_raw.AGEGRP >= 14].reset_index().groupby('fips').sum()\n",
    "dm_old = dm_old.rename(columns={'TOT_POP': '65yrs'}).drop(['AGEGRP'], axis=1)"
   ]
  },
  {
   "cell_type": "code",
   "execution_count": 7,
   "metadata": {},
   "outputs": [],
   "source": [
    "dm = dm_old.join(dm_all)"
   ]
  },
  {
   "cell_type": "code",
   "execution_count": 8,
   "metadata": {},
   "outputs": [],
   "source": [
    "columns = dm.columns\n",
    "for c in ['65yrs', 'minority', 'black', 'hispanic']:\n",
    "    pc = 'perc_' + c\n",
    "    dm[pc] = dm[c] / dm.TOT_POP"
   ]
  },
  {
   "cell_type": "markdown",
   "metadata": {},
   "source": [
    "### Sanity check for demographic dataframe (dm)\n",
    "passed"
   ]
  },
  {
   "cell_type": "code",
   "execution_count": 9,
   "metadata": {},
   "outputs": [
    {
     "name": "stdout",
     "output_type": "stream",
     "text": [
      "black percentage = 13.4%\n",
      "hispanic percentage = 18.5%\n",
      "minority percentage = 23.7%\n",
      "population over 65yrs = 54058263.0\n"
     ]
    }
   ],
   "source": [
    "summation = dm.sum(axis=0)\n",
    "perc_black = summation['black'] / summation['TOT_POP']\n",
    "print(f'black percentage = {100 * perc_black:.1f}%')\n",
    "perc_hispanic = summation['hispanic'] / summation['TOT_POP']\n",
    "print(f'hispanic percentage = {100 * perc_hispanic:.1f}%')\n",
    "perc_minority = summation['minority'] / summation['TOT_POP']\n",
    "print(f'minority percentage = {100 * perc_minority:.1f}%')\n",
    "print(f\"population over 65yrs = {summation['65yrs']}\")"
   ]
  },
  {
   "cell_type": "markdown",
   "metadata": {},
   "source": [
    "## Covid data"
   ]
  },
  {
   "cell_type": "code",
   "execution_count": 13,
   "metadata": {},
   "outputs": [],
   "source": [
    "df_covid_raw = pd.read_csv('../data/time_series_covid19_death_US_2020-11-02.csv').dropna()\n",
    "df_covid_raw['FIPS'] = df_covid_raw['FIPS'].apply(lambda x: str(int(x)).zfill(5))\n",
    "df_covid_raw = df_covid_raw.rename(columns={'FIPS': 'fips'}).set_index('fips')\n",
    "df_covid_raw = df_covid_raw.drop([\n",
    "    'UID', 'iso2', 'iso3', 'code3', \n",
    "    'Admin2', 'Province_State', 'Country_Region', \n",
    "    'Lat', 'Long_', 'Combined_Key'], axis=1)\n",
    "\n",
    "df_covid_raw['1/21/20'] = 0"
   ]
  },
  {
   "cell_type": "markdown",
   "metadata": {},
   "source": [
    "### Get step sub-dataset"
   ]
  },
  {
   "cell_type": "code",
   "execution_count": 14,
   "metadata": {},
   "outputs": [],
   "source": [
    "start = '4/4/20'\n",
    "step = 7\n",
    "\n",
    "columns = df_covid_raw.columns.values\n",
    "start_idx = np.argwhere(columns==start)[0][0]\n",
    "\n",
    "selected = columns[np.arange(start_idx, len(columns), step)]\n",
    "\n",
    "foo = lambda x: '-'.join(x.split('/')[:2]) \n",
    "\n",
    "df_covid_step = df_covid_raw[selected].rename(columns={col: foo(col) for col in selected})\n",
    "df_covid_step.head()\n",
    "\n",
    "selected_ = [foo(col) for col in selected]\n",
    "with open('steps.dat', 'w') as handle:\n",
    "    handle.write(' '.join(selected_))"
   ]
  },
  {
   "cell_type": "markdown",
   "metadata": {},
   "source": [
    "### get period prevalence"
   ]
  },
  {
   "cell_type": "code",
   "execution_count": 15,
   "metadata": {},
   "outputs": [],
   "source": [
    "df_covid = df_covid_step[[foo(selected[0])]]\n",
    "df_covid = df_covid.join(df_covid_step.diff(axis=1)[df_covid_step.columns[1:]])\n",
    "# df_covid['covid'] = df_covid_raw['10/29/20']"
   ]
  },
  {
   "cell_type": "markdown",
   "metadata": {},
   "source": [
    "## Risk data"
   ]
  },
  {
   "cell_type": "code",
   "execution_count": 16,
   "metadata": {},
   "outputs": [
    {
     "name": "stdout",
     "output_type": "stream",
     "text": [
      "(3094, 15)\n"
     ]
    }
   ],
   "source": [
    "rf = pd.read_csv('../data/county_pop_risk_covid.csv', dtype={'county': str})\n",
    "rf = rf.rename(columns={'county': 'fips'}).set_index('fips')\n",
    "rf.fillna(rf.mean(), inplace=True)\n",
    "print(rf.shape)"
   ]
  },
  {
   "cell_type": "markdown",
   "metadata": {},
   "source": [
    "## Combine demographic, SES, rural, risk, and covid dataframe"
   ]
  },
  {
   "cell_type": "code",
   "execution_count": 17,
   "metadata": {},
   "outputs": [
    {
     "name": "stdout",
     "output_type": "stream",
     "text": [
      "Index(['65yrs', 'minority', 'black', 'hispanic', 'population', 'perc_65yrs',\n",
      "       'perc_minority', 'perc_black', 'perc_hispanic', 'poverty',\n",
      "       'perc_poverty', 'income', 'risk', 'risk_flu', 'perc_rural_pop',\n",
      "       'perc_urban_pop', '4-4', '4-11', '4-18', '4-25', '5-2', '5-9', '5-16',\n",
      "       '5-23', '5-30', '6-6', '6-13', '6-20', '6-27', '7-4', '7-11', '7-18',\n",
      "       '7-25', '8-1', '8-8', '8-15', '8-22', '8-29', '9-5', '9-12', '9-19',\n",
      "       '9-26', '10-3', '10-10', '10-17', '10-24', '10-31'],\n",
      "      dtype='object')\n"
     ]
    }
   ],
   "source": [
    "risk_cols = ['risk', 'risk_flu']\n",
    "df = dm.join(pe, how='inner')\\\n",
    "    .join(rf[risk_cols], how='inner')\\\n",
    "    .join(df_rural, how='inner')\\\n",
    "    .join(df_covid, how='inner')\\\n",
    "    .rename(columns={\n",
    "        'POVALL_2018': 'poverty',\n",
    "        'PCTPOVALL_2018': 'perc_poverty', \n",
    "        'MEDHHINC_2018': 'income', \n",
    "        'TOT_POP': 'population'})\n",
    "print(df.columns)"
   ]
  },
  {
   "cell_type": "code",
   "execution_count": 18,
   "metadata": {},
   "outputs": [
    {
     "name": "stdout",
     "output_type": "stream",
     "text": [
      "(3094, 47)\n"
     ]
    }
   ],
   "source": [
    "print(df.shape)\n",
    "# df.to_csv(f'combined_data_confirmed_step-{step}.csv', float_format='%.6f')\n",
    "df.to_csv(f'combined_data_death_step-{step}.csv', float_format='%.6f')"
   ]
  },
  {
   "cell_type": "code",
   "execution_count": null,
   "metadata": {},
   "outputs": [],
   "source": []
  }
 ],
 "metadata": {
  "kernelspec": {
   "display_name": "Python 3",
   "language": "python",
   "name": "python3"
  },
  "language_info": {
   "codemirror_mode": {
    "name": "ipython",
    "version": 3
   },
   "file_extension": ".py",
   "mimetype": "text/x-python",
   "name": "python",
   "nbconvert_exporter": "python",
   "pygments_lexer": "ipython3",
   "version": "3.7.0"
  }
 },
 "nbformat": 4,
 "nbformat_minor": 2
}
