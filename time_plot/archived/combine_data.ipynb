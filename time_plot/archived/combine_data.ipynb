{
 "cells": [
  {
   "cell_type": "code",
   "execution_count": 41,
   "metadata": {},
   "outputs": [],
   "source": [
    "import pandas as pd\n",
    "import pickle\n",
    "from sklearn.preprocessing import MinMaxScaler, StandardScaler\n",
    "\n",
    "import statsmodels.api as sm\n",
    "import statsmodels.formula.api as smf\n",
    "from patsy import dmatrices\n",
    "from statsmodels.stats.outliers_influence import variance_inflation_factor\n",
    "\n",
    "import pylab as plt\n",
    "%matplotlib inline\n",
    "\n",
    "import seaborn as sns"
   ]
  },
  {
   "cell_type": "markdown",
   "metadata": {},
   "source": [
    "## SES data"
   ]
  },
  {
   "cell_type": "code",
   "execution_count": 2,
   "metadata": {},
   "outputs": [
    {
     "data": {
      "text/plain": [
       "(3193, 3)"
      ]
     },
     "execution_count": 2,
     "metadata": {},
     "output_type": "execute_result"
    }
   ],
   "source": [
    "pe = pd.read_csv('PovertyEstimates.csv', thousands=',').rename(columns={'FIPStxt': 'fips'})\n",
    "pe['fips'] = pe['fips'].apply(lambda x: str(x).zfill(5))\n",
    "pe = pe.set_index('fips')[['POVALL_2018', 'PCTPOVALL_2018', 'MEDHHINC_2018']]\n",
    "pe.shape"
   ]
  },
  {
   "cell_type": "markdown",
   "metadata": {},
   "source": [
    "## Rural data"
   ]
  },
  {
   "cell_type": "code",
   "execution_count": 3,
   "metadata": {},
   "outputs": [
    {
     "name": "stdout",
     "output_type": "stream",
     "text": [
      "(3142, 1)\n"
     ]
    }
   ],
   "source": [
    "df_rural = pd.read_csv('County_Rural_Lookup.csv', thousands=',', usecols=[0, 7])\n",
    "df_rural = df_rural.rename(columns={'2015 GEOID': 'fips', '2010 Census \\nPercent Rural': 'perc_rural_pop'})\n",
    "df_rural = df_rural.set_index('fips').dropna()\n",
    "print(df_rural.shape)"
   ]
  },
  {
   "cell_type": "markdown",
   "metadata": {},
   "source": [
    "## Demographic data"
   ]
  },
  {
   "cell_type": "code",
   "execution_count": 4,
   "metadata": {},
   "outputs": [
    {
     "data": {
      "text/html": [
       "<div>\n",
       "<style scoped>\n",
       "    .dataframe tbody tr th:only-of-type {\n",
       "        vertical-align: middle;\n",
       "    }\n",
       "\n",
       "    .dataframe tbody tr th {\n",
       "        vertical-align: top;\n",
       "    }\n",
       "\n",
       "    .dataframe thead th {\n",
       "        text-align: right;\n",
       "    }\n",
       "</style>\n",
       "<table border=\"1\" class=\"dataframe\">\n",
       "  <thead>\n",
       "    <tr style=\"text-align: right;\">\n",
       "      <th></th>\n",
       "      <th>SUMLEV</th>\n",
       "      <th>STATE</th>\n",
       "      <th>COUNTY</th>\n",
       "      <th>STNAME</th>\n",
       "      <th>CTYNAME</th>\n",
       "      <th>YEAR</th>\n",
       "      <th>AGEGRP</th>\n",
       "      <th>TOT_POP</th>\n",
       "      <th>TOT_MALE</th>\n",
       "      <th>TOT_FEMALE</th>\n",
       "      <th>...</th>\n",
       "      <th>HWAC_MALE</th>\n",
       "      <th>HWAC_FEMALE</th>\n",
       "      <th>HBAC_MALE</th>\n",
       "      <th>HBAC_FEMALE</th>\n",
       "      <th>HIAC_MALE</th>\n",
       "      <th>HIAC_FEMALE</th>\n",
       "      <th>HAAC_MALE</th>\n",
       "      <th>HAAC_FEMALE</th>\n",
       "      <th>HNAC_MALE</th>\n",
       "      <th>HNAC_FEMALE</th>\n",
       "    </tr>\n",
       "    <tr>\n",
       "      <th>fips</th>\n",
       "      <th></th>\n",
       "      <th></th>\n",
       "      <th></th>\n",
       "      <th></th>\n",
       "      <th></th>\n",
       "      <th></th>\n",
       "      <th></th>\n",
       "      <th></th>\n",
       "      <th></th>\n",
       "      <th></th>\n",
       "      <th></th>\n",
       "      <th></th>\n",
       "      <th></th>\n",
       "      <th></th>\n",
       "      <th></th>\n",
       "      <th></th>\n",
       "      <th></th>\n",
       "      <th></th>\n",
       "      <th></th>\n",
       "      <th></th>\n",
       "      <th></th>\n",
       "    </tr>\n",
       "  </thead>\n",
       "  <tbody>\n",
       "    <tr>\n",
       "      <th>01001</th>\n",
       "      <td>50</td>\n",
       "      <td>01</td>\n",
       "      <td>001</td>\n",
       "      <td>Alabama</td>\n",
       "      <td>Autauga County</td>\n",
       "      <td>12</td>\n",
       "      <td>0</td>\n",
       "      <td>55869</td>\n",
       "      <td>27092</td>\n",
       "      <td>28777</td>\n",
       "      <td>...</td>\n",
       "      <td>778</td>\n",
       "      <td>687</td>\n",
       "      <td>89</td>\n",
       "      <td>93</td>\n",
       "      <td>40</td>\n",
       "      <td>27</td>\n",
       "      <td>15</td>\n",
       "      <td>19</td>\n",
       "      <td>16</td>\n",
       "      <td>11</td>\n",
       "    </tr>\n",
       "    <tr>\n",
       "      <th>01001</th>\n",
       "      <td>50</td>\n",
       "      <td>01</td>\n",
       "      <td>001</td>\n",
       "      <td>Alabama</td>\n",
       "      <td>Autauga County</td>\n",
       "      <td>12</td>\n",
       "      <td>1</td>\n",
       "      <td>3277</td>\n",
       "      <td>1713</td>\n",
       "      <td>1564</td>\n",
       "      <td>...</td>\n",
       "      <td>76</td>\n",
       "      <td>53</td>\n",
       "      <td>10</td>\n",
       "      <td>6</td>\n",
       "      <td>6</td>\n",
       "      <td>5</td>\n",
       "      <td>3</td>\n",
       "      <td>4</td>\n",
       "      <td>3</td>\n",
       "      <td>3</td>\n",
       "    </tr>\n",
       "    <tr>\n",
       "      <th>01001</th>\n",
       "      <td>50</td>\n",
       "      <td>01</td>\n",
       "      <td>001</td>\n",
       "      <td>Alabama</td>\n",
       "      <td>Autauga County</td>\n",
       "      <td>12</td>\n",
       "      <td>2</td>\n",
       "      <td>3465</td>\n",
       "      <td>1787</td>\n",
       "      <td>1678</td>\n",
       "      <td>...</td>\n",
       "      <td>83</td>\n",
       "      <td>59</td>\n",
       "      <td>2</td>\n",
       "      <td>10</td>\n",
       "      <td>8</td>\n",
       "      <td>2</td>\n",
       "      <td>2</td>\n",
       "      <td>0</td>\n",
       "      <td>1</td>\n",
       "      <td>1</td>\n",
       "    </tr>\n",
       "    <tr>\n",
       "      <th>01001</th>\n",
       "      <td>50</td>\n",
       "      <td>01</td>\n",
       "      <td>001</td>\n",
       "      <td>Alabama</td>\n",
       "      <td>Autauga County</td>\n",
       "      <td>12</td>\n",
       "      <td>3</td>\n",
       "      <td>3851</td>\n",
       "      <td>1977</td>\n",
       "      <td>1874</td>\n",
       "      <td>...</td>\n",
       "      <td>84</td>\n",
       "      <td>67</td>\n",
       "      <td>11</td>\n",
       "      <td>12</td>\n",
       "      <td>2</td>\n",
       "      <td>2</td>\n",
       "      <td>1</td>\n",
       "      <td>2</td>\n",
       "      <td>2</td>\n",
       "      <td>1</td>\n",
       "    </tr>\n",
       "    <tr>\n",
       "      <th>01001</th>\n",
       "      <td>50</td>\n",
       "      <td>01</td>\n",
       "      <td>001</td>\n",
       "      <td>Alabama</td>\n",
       "      <td>Autauga County</td>\n",
       "      <td>12</td>\n",
       "      <td>4</td>\n",
       "      <td>3659</td>\n",
       "      <td>1854</td>\n",
       "      <td>1805</td>\n",
       "      <td>...</td>\n",
       "      <td>55</td>\n",
       "      <td>68</td>\n",
       "      <td>7</td>\n",
       "      <td>6</td>\n",
       "      <td>4</td>\n",
       "      <td>5</td>\n",
       "      <td>0</td>\n",
       "      <td>4</td>\n",
       "      <td>3</td>\n",
       "      <td>0</td>\n",
       "    </tr>\n",
       "  </tbody>\n",
       "</table>\n",
       "<p>5 rows × 80 columns</p>\n",
       "</div>"
      ],
      "text/plain": [
       "       SUMLEV STATE COUNTY   STNAME         CTYNAME  YEAR  AGEGRP  TOT_POP  \\\n",
       "fips                                                                         \n",
       "01001      50    01    001  Alabama  Autauga County    12       0    55869   \n",
       "01001      50    01    001  Alabama  Autauga County    12       1     3277   \n",
       "01001      50    01    001  Alabama  Autauga County    12       2     3465   \n",
       "01001      50    01    001  Alabama  Autauga County    12       3     3851   \n",
       "01001      50    01    001  Alabama  Autauga County    12       4     3659   \n",
       "\n",
       "       TOT_MALE  TOT_FEMALE  ...  HWAC_MALE  HWAC_FEMALE  HBAC_MALE  \\\n",
       "fips                         ...                                      \n",
       "01001     27092       28777  ...        778          687         89   \n",
       "01001      1713        1564  ...         76           53         10   \n",
       "01001      1787        1678  ...         83           59          2   \n",
       "01001      1977        1874  ...         84           67         11   \n",
       "01001      1854        1805  ...         55           68          7   \n",
       "\n",
       "       HBAC_FEMALE  HIAC_MALE  HIAC_FEMALE  HAAC_MALE  HAAC_FEMALE  HNAC_MALE  \\\n",
       "fips                                                                            \n",
       "01001           93         40           27         15           19         16   \n",
       "01001            6          6            5          3            4          3   \n",
       "01001           10          8            2          2            0          1   \n",
       "01001           12          2            2          1            2          2   \n",
       "01001            6          4            5          0            4          3   \n",
       "\n",
       "       HNAC_FEMALE  \n",
       "fips                \n",
       "01001           11  \n",
       "01001            3  \n",
       "01001            1  \n",
       "01001            1  \n",
       "01001            0  \n",
       "\n",
       "[5 rows x 80 columns]"
      ]
     },
     "execution_count": 4,
     "metadata": {},
     "output_type": "execute_result"
    }
   ],
   "source": [
    "dm_raw = pd.read_csv('cc-est2019-alldata.csv', encoding='ISO-8859-1', dtype={'STATE': str, 'COUNTY': str})\n",
    "dm_raw = dm_raw[dm_raw.YEAR==12]\n",
    "dm_raw['fips'] = dm_raw.STATE + dm_raw.COUNTY\n",
    "dm_raw = dm_raw.set_index('fips')\n",
    "dm_raw.head()"
   ]
  },
  {
   "cell_type": "code",
   "execution_count": 5,
   "metadata": {},
   "outputs": [],
   "source": [
    "dm_raw['minority'] = dm_raw.TOT_POP - (dm_raw.WA_MALE + dm_raw.WA_FEMALE)\n",
    "dm_raw['black'] = dm_raw.BA_MALE + dm_raw.BA_FEMALE\n",
    "dm_raw['hispanic'] = dm_raw.H_MALE + dm_raw.H_FEMALE\n",
    "dm_all = dm_raw[dm_raw.AGEGRP == 0][['minority', 'black', 'hispanic', 'TOT_POP']]"
   ]
  },
  {
   "cell_type": "code",
   "execution_count": 6,
   "metadata": {},
   "outputs": [],
   "source": [
    "dm_old = dm_raw[['AGEGRP', 'TOT_POP']][dm_raw.AGEGRP >= 14].reset_index().groupby('fips').sum()\n",
    "dm_old = dm_old.rename(columns={'TOT_POP': '65yrs'}).drop(['AGEGRP'], axis=1)"
   ]
  },
  {
   "cell_type": "code",
   "execution_count": 7,
   "metadata": {},
   "outputs": [],
   "source": [
    "dm = dm_old.join(dm_all)"
   ]
  },
  {
   "cell_type": "code",
   "execution_count": 8,
   "metadata": {},
   "outputs": [],
   "source": [
    "columns = dm.columns\n",
    "for c in ['65yrs', 'minority', 'black', 'hispanic']:\n",
    "    pc = 'perc_' + c\n",
    "    dm[pc] = dm[c] / dm.TOT_POP\n"
   ]
  },
  {
   "cell_type": "markdown",
   "metadata": {},
   "source": [
    "### Sanity check for demographic dataframe (dm)\n",
    "passed"
   ]
  },
  {
   "cell_type": "code",
   "execution_count": 9,
   "metadata": {},
   "outputs": [
    {
     "name": "stdout",
     "output_type": "stream",
     "text": [
      "black percentage = 13.4%\n",
      "hispanic percentage = 18.5%\n",
      "minority percentage = 23.7%\n",
      "population over 65yrs = 54058263.0\n"
     ]
    }
   ],
   "source": [
    "summation = dm.sum(axis=0)\n",
    "perc_black = summation['black'] / summation['TOT_POP']\n",
    "print(f'black percentage = {100 * perc_black:.1f}%')\n",
    "perc_hispanic = summation['hispanic'] / summation['TOT_POP']\n",
    "print(f'hispanic percentage = {100 * perc_hispanic:.1f}%')\n",
    "perc_minority = summation['minority'] / summation['TOT_POP']\n",
    "print(f'minority percentage = {100 * perc_minority:.1f}%')\n",
    "print(f\"population over 65yrs = {summation['65yrs']}\")"
   ]
  },
  {
   "cell_type": "markdown",
   "metadata": {},
   "source": [
    "## Covid data"
   ]
  },
  {
   "cell_type": "code",
   "execution_count": 33,
   "metadata": {},
   "outputs": [],
   "source": [
    "df_covid_raw = pd.read_csv('time_series_covid19_confirmed_US_2020-10-22.csv').dropna()\n",
    "df_covid_raw['FIPS'] = df_covid_raw['FIPS'].apply(lambda x: str(int(x)).zfill(5))\n",
    "df_covid_raw = df_covid_raw.rename(columns={'FIPS': 'fips'}).set_index('fips')\n",
    "df_covid_raw = df_covid_raw.drop([\n",
    "    'UID', 'iso2', 'iso3', 'code3', \n",
    "    'Admin2', 'Province_State', 'Country_Region', \n",
    "    'Lat', 'Long_', 'Combined_Key'], axis=1)\n",
    "\n",
    "df_covid_raw['1/21/20'] = 0"
   ]
  },
  {
   "cell_type": "code",
   "execution_count": 44,
   "metadata": {},
   "outputs": [],
   "source": [
    "last_date = '10/22/20'\n",
    "periods = {\n",
    "    'p1': ['1/21/20', '4/1/20'],\n",
    "    'p2': ['3/17/20', '5/1/20'],\n",
    "    'p3': ['4/1/20', '6/8/20'],\n",
    "    'p4': ['5/1/20', '7/15/20'],\n",
    "    'p5': ['6/8/20', '8/10/20'],\n",
    "    'p6': ['7/15/20', '9/10/20'],\n",
    "    'p7': ['8/10/20', '10/4/20'],\n",
    "    'p8': ['9/10/20', last_date]\n",
    "}\n",
    "with open('periods.pkl', 'wb') as handle:\n",
    "    pickle.dump(periods, handle)"
   ]
  },
  {
   "cell_type": "code",
   "execution_count": 35,
   "metadata": {},
   "outputs": [
    {
     "data": {
      "text/html": [
       "<div>\n",
       "<style scoped>\n",
       "    .dataframe tbody tr th:only-of-type {\n",
       "        vertical-align: middle;\n",
       "    }\n",
       "\n",
       "    .dataframe tbody tr th {\n",
       "        vertical-align: top;\n",
       "    }\n",
       "\n",
       "    .dataframe thead th {\n",
       "        text-align: right;\n",
       "    }\n",
       "</style>\n",
       "<table border=\"1\" class=\"dataframe\">\n",
       "  <thead>\n",
       "    <tr style=\"text-align: right;\">\n",
       "      <th></th>\n",
       "      <th>covid</th>\n",
       "      <th>p1</th>\n",
       "      <th>p2</th>\n",
       "      <th>p3</th>\n",
       "      <th>p4</th>\n",
       "      <th>p5</th>\n",
       "      <th>p6</th>\n",
       "      <th>p7</th>\n",
       "      <th>p8</th>\n",
       "    </tr>\n",
       "    <tr>\n",
       "      <th>fips</th>\n",
       "      <th></th>\n",
       "      <th></th>\n",
       "      <th></th>\n",
       "      <th></th>\n",
       "      <th></th>\n",
       "      <th></th>\n",
       "      <th></th>\n",
       "      <th></th>\n",
       "      <th></th>\n",
       "    </tr>\n",
       "  </thead>\n",
       "  <tbody>\n",
       "    <tr>\n",
       "      <th>01001</th>\n",
       "      <td>2023</td>\n",
       "      <td>8</td>\n",
       "      <td>42</td>\n",
       "      <td>264</td>\n",
       "      <td>701</td>\n",
       "      <td>902</td>\n",
       "      <td>670</td>\n",
       "      <td>654</td>\n",
       "      <td>610</td>\n",
       "    </tr>\n",
       "    <tr>\n",
       "      <th>01003</th>\n",
       "      <td>6475</td>\n",
       "      <td>20</td>\n",
       "      <td>174</td>\n",
       "      <td>300</td>\n",
       "      <td>1324</td>\n",
       "      <td>3331</td>\n",
       "      <td>3179</td>\n",
       "      <td>2422</td>\n",
       "      <td>1797</td>\n",
       "    </tr>\n",
       "    <tr>\n",
       "      <th>01005</th>\n",
       "      <td>997</td>\n",
       "      <td>0</td>\n",
       "      <td>42</td>\n",
       "      <td>197</td>\n",
       "      <td>384</td>\n",
       "      <td>379</td>\n",
       "      <td>192</td>\n",
       "      <td>345</td>\n",
       "      <td>379</td>\n",
       "    </tr>\n",
       "    <tr>\n",
       "      <th>01007</th>\n",
       "      <td>811</td>\n",
       "      <td>3</td>\n",
       "      <td>42</td>\n",
       "      <td>76</td>\n",
       "      <td>196</td>\n",
       "      <td>363</td>\n",
       "      <td>328</td>\n",
       "      <td>244</td>\n",
       "      <td>245</td>\n",
       "    </tr>\n",
       "    <tr>\n",
       "      <th>01009</th>\n",
       "      <td>1893</td>\n",
       "      <td>5</td>\n",
       "      <td>39</td>\n",
       "      <td>68</td>\n",
       "      <td>328</td>\n",
       "      <td>739</td>\n",
       "      <td>732</td>\n",
       "      <td>844</td>\n",
       "      <td>794</td>\n",
       "    </tr>\n",
       "  </tbody>\n",
       "</table>\n",
       "</div>"
      ],
      "text/plain": [
       "       covid  p1   p2   p3    p4    p5    p6    p7    p8\n",
       "fips                                                    \n",
       "01001   2023   8   42  264   701   902   670   654   610\n",
       "01003   6475  20  174  300  1324  3331  3179  2422  1797\n",
       "01005    997   0   42  197   384   379   192   345   379\n",
       "01007    811   3   42   76   196   363   328   244   245\n",
       "01009   1893   5   39   68   328   739   732   844   794"
      ]
     },
     "execution_count": 35,
     "metadata": {},
     "output_type": "execute_result"
    }
   ],
   "source": [
    "df_covid_period = pd.DataFrame()\n",
    "df_covid_period['covid'] = df_covid_raw[last_date]\n",
    "\n",
    "for key, interval in periods.items():\n",
    "    a, b = interval\n",
    "    df_covid_period[key] = df_covid_raw[b] - df_covid_raw[a]\n",
    "    \n",
    "df_covid_period.head()\n",
    "    \n",
    "# for i in range(len(covid_chosen))[::-1][:-1]:\n",
    "#     col = covid_chosen[i]\n",
    "#     col_prev = covid_chosen[i - 1]\n",
    "#     df_covid_period[col] = df_covid_chosen[col] - df_covid_chosen[col_prev]\n",
    "\n",
    "# df_covid_period = df_covid_period[covid_chosen]\n",
    "# df_covid_period['covid'] = df_covid_raw[df_covid_raw.columns[-1]]\n",
    "# print(df_covid_period.shape)"
   ]
  },
  {
   "cell_type": "code",
   "execution_count": 37,
   "metadata": {},
   "outputs": [
    {
     "name": "stdout",
     "output_type": "stream",
     "text": [
      "(3142, 10)\n",
      "       covid  p1   p2   p3    p4    p5    p6    p7    p8  covid_pc     p1_pc  \\\n",
      "fips                                                                           \n",
      "01001   2023   8   42  264   701   902   670   654   610  0.036210  0.000143   \n",
      "01003   6475  20  174  300  1324  3331  3179  2422  1797  0.029005  0.000090   \n",
      "01005    997   0   42  197   384   379   192   345   379  0.040387  0.000000   \n",
      "01007    811   3   42   76   196   363   328   244   245  0.036215  0.000134   \n",
      "01009   1893   5   39   68   328   739   732   844   794  0.032736  0.000086   \n",
      "\n",
      "          p2_pc     p3_pc     p4_pc     p5_pc     p6_pc     p7_pc     p8_pc  \n",
      "fips                                                                         \n",
      "01001  0.000752  0.004725  0.012547  0.016145  0.011992  0.011706  0.010918  \n",
      "01003  0.000779  0.001344  0.005931  0.014922  0.014241  0.010850  0.008050  \n",
      "01005  0.001701  0.007980  0.015555  0.015353  0.007778  0.013976  0.015353  \n",
      "01007  0.001876  0.003394  0.008752  0.016210  0.014647  0.010896  0.010940  \n",
      "01009  0.000674  0.001176  0.005672  0.012780  0.012659  0.014596  0.013731  \n"
     ]
    }
   ],
   "source": [
    "df_covid = df_covid_period.join(dm[['TOT_POP']], how='inner')\n",
    "print(df_covid.shape)\n",
    "\n",
    "for col in df_covid_period.columns:\n",
    "    new_col = col + '_pc'\n",
    "    df_covid[new_col] = df_covid[col] / df_covid['TOT_POP']\n",
    "\n",
    "df_covid.drop(['TOT_POP'], axis=1, inplace=True)\n",
    "print(df_covid.head())"
   ]
  },
  {
   "cell_type": "markdown",
   "metadata": {},
   "source": [
    "## Risk data\n",
    "For Ishanu:\n",
    "1. The `A_B` column of the risk dataframe `rf` means llk of disease model `B` generating disease time series `A`;\n",
    "2. Now risk is defined to be `2 / (llk Staph generating Staph + llk Strep generating Strep)`;\n",
    "3. Now risk_flu is defined to be `1 / llk of flu model generating flu sequence`;\n",
    "4. Feel free to try other formulae for risk."
   ]
  },
  {
   "cell_type": "code",
   "execution_count": 38,
   "metadata": {},
   "outputs": [
    {
     "name": "stdout",
     "output_type": "stream",
     "text": [
      "(3094, 14)\n"
     ]
    }
   ],
   "source": [
    "rf = pd.read_csv('county_pop_risk_covid.csv', dtype={'county': str})\n",
    "rf = rf.rename(columns={'county': 'fips'}).set_index('fips')\n",
    "rf['risk'] = 2 / (rf['Staphylococcus_Staphylococcus'] + rf['Streptococcal_Streptococcal'])\n",
    "\n",
    "rf.fillna(rf.mean(), inplace=True)\n",
    "print(rf.shape)"
   ]
  },
  {
   "cell_type": "markdown",
   "metadata": {},
   "source": [
    "### Combine demographic, SES, rural, risk, and covid dataframe\n",
    "For Ishanu: df here has a column of population over 65yrs"
   ]
  },
  {
   "cell_type": "code",
   "execution_count": 39,
   "metadata": {},
   "outputs": [
    {
     "name": "stdout",
     "output_type": "stream",
     "text": [
      "Index(['65yrs', 'minority', 'black', 'hispanic', 'population', 'perc_65yrs',\n",
      "       'perc_minority', 'perc_black', 'perc_hispanic', 'poverty',\n",
      "       'perc_poverty', 'income', 'risk', 'risk_flu', 'perc_rural_pop', 'covid',\n",
      "       'p1', 'p2', 'p3', 'p4', 'p5', 'p6', 'p7', 'p8', 'covid_pc', 'p1_pc',\n",
      "       'p2_pc', 'p3_pc', 'p4_pc', 'p5_pc', 'p6_pc', 'p7_pc', 'p8_pc'],\n",
      "      dtype='object')\n"
     ]
    }
   ],
   "source": [
    "risk_cols = ['risk', 'risk_flu']\n",
    "df = dm.join(pe, how='inner')\\\n",
    "    .join(rf[risk_cols], how='inner')\\\n",
    "    .join(df_rural, how='inner')\\\n",
    "    .join(df_covid, how='inner')\\\n",
    "    .rename(columns={\n",
    "        'POVALL_2018': 'poverty',\n",
    "        'PCTPOVALL_2018': 'perc_poverty', \n",
    "        'MEDHHINC_2018': 'income', \n",
    "        'TOT_POP': 'population'})\n",
    "print(df.columns)"
   ]
  },
  {
   "cell_type": "code",
   "execution_count": 40,
   "metadata": {},
   "outputs": [
    {
     "name": "stdout",
     "output_type": "stream",
     "text": [
      "(3094, 33)\n"
     ]
    }
   ],
   "source": [
    "print(df.shape)\n",
    "df.to_csv('combined_data.csv', float_format='%.6f')"
   ]
  },
  {
   "cell_type": "code",
   "execution_count": null,
   "metadata": {},
   "outputs": [],
   "source": []
  }
 ],
 "metadata": {
  "kernelspec": {
   "display_name": "Python 3",
   "language": "python",
   "name": "python3"
  },
  "language_info": {
   "codemirror_mode": {
    "name": "ipython",
    "version": 3
   },
   "file_extension": ".py",
   "mimetype": "text/x-python",
   "name": "python",
   "nbconvert_exporter": "python",
   "pygments_lexer": "ipython3",
   "version": "3.7.0"
  }
 },
 "nbformat": 4,
 "nbformat_minor": 2
}
