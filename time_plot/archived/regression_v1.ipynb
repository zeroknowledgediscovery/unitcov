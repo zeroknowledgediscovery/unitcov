{
 "cells": [
  {
   "cell_type": "code",
   "execution_count": 1,
   "metadata": {},
   "outputs": [],
   "source": [
    "import pandas as pd\n",
    "from sklearn.preprocessing import MinMaxScaler, StandardScaler\n",
    "\n",
    "import statsmodels.api as sm\n",
    "import statsmodels.formula.api as smf\n",
    "from patsy import dmatrices\n",
    "from statsmodels.stats.outliers_influence import variance_inflation_factor\n",
    "\n",
    "import pylab as plt\n",
    "%matplotlib inline\n",
    "\n",
    "import seaborn as sns"
   ]
  },
  {
   "cell_type": "markdown",
   "metadata": {},
   "source": [
    "## Get data"
   ]
  },
  {
   "cell_type": "markdown",
   "metadata": {},
   "source": [
    "### SES data"
   ]
  },
  {
   "cell_type": "code",
   "execution_count": 6,
   "metadata": {},
   "outputs": [],
   "source": [
    "pe = pd.read_csv('PovertyEstimates.csv', thousands=',').rename(columns={'FIPStxt': 'fips'})\n",
    "pe['fips'] = pe['fips'].apply(lambda x: str(x).zfill(5))\n",
    "pe = pe.set_index('fips')[['POVALL_2018', 'PCTPOVALL_2018', 'MEDHHINC_2018']]"
   ]
  },
  {
   "cell_type": "markdown",
   "metadata": {},
   "source": [
    "### Rural data"
   ]
  },
  {
   "cell_type": "code",
   "execution_count": 7,
   "metadata": {},
   "outputs": [],
   "source": [
    "df_rural = pd.read_csv('County_Rural_Lookup.csv', thousands=',', usecols=[0, 7])\n",
    "df_rural = df_rural.rename(columns={'2015 GEOID': 'fips', '2010 Census \\nPercent Rural': 'perc_rural_pop'})\n",
    "df_rural = df_rural.set_index('fips').dropna()"
   ]
  },
  {
   "cell_type": "markdown",
   "metadata": {},
   "source": [
    "### Demographic data"
   ]
  },
  {
   "cell_type": "code",
   "execution_count": 8,
   "metadata": {},
   "outputs": [
    {
     "data": {
      "text/html": [
       "<div>\n",
       "<style scoped>\n",
       "    .dataframe tbody tr th:only-of-type {\n",
       "        vertical-align: middle;\n",
       "    }\n",
       "\n",
       "    .dataframe tbody tr th {\n",
       "        vertical-align: top;\n",
       "    }\n",
       "\n",
       "    .dataframe thead th {\n",
       "        text-align: right;\n",
       "    }\n",
       "</style>\n",
       "<table border=\"1\" class=\"dataframe\">\n",
       "  <thead>\n",
       "    <tr style=\"text-align: right;\">\n",
       "      <th></th>\n",
       "      <th>SUMLEV</th>\n",
       "      <th>STATE</th>\n",
       "      <th>COUNTY</th>\n",
       "      <th>STNAME</th>\n",
       "      <th>CTYNAME</th>\n",
       "      <th>YEAR</th>\n",
       "      <th>AGEGRP</th>\n",
       "      <th>TOT_POP</th>\n",
       "      <th>TOT_MALE</th>\n",
       "      <th>TOT_FEMALE</th>\n",
       "      <th>...</th>\n",
       "      <th>HWAC_MALE</th>\n",
       "      <th>HWAC_FEMALE</th>\n",
       "      <th>HBAC_MALE</th>\n",
       "      <th>HBAC_FEMALE</th>\n",
       "      <th>HIAC_MALE</th>\n",
       "      <th>HIAC_FEMALE</th>\n",
       "      <th>HAAC_MALE</th>\n",
       "      <th>HAAC_FEMALE</th>\n",
       "      <th>HNAC_MALE</th>\n",
       "      <th>HNAC_FEMALE</th>\n",
       "    </tr>\n",
       "    <tr>\n",
       "      <th>fips</th>\n",
       "      <th></th>\n",
       "      <th></th>\n",
       "      <th></th>\n",
       "      <th></th>\n",
       "      <th></th>\n",
       "      <th></th>\n",
       "      <th></th>\n",
       "      <th></th>\n",
       "      <th></th>\n",
       "      <th></th>\n",
       "      <th></th>\n",
       "      <th></th>\n",
       "      <th></th>\n",
       "      <th></th>\n",
       "      <th></th>\n",
       "      <th></th>\n",
       "      <th></th>\n",
       "      <th></th>\n",
       "      <th></th>\n",
       "      <th></th>\n",
       "      <th></th>\n",
       "    </tr>\n",
       "  </thead>\n",
       "  <tbody>\n",
       "    <tr>\n",
       "      <th>01001</th>\n",
       "      <td>50</td>\n",
       "      <td>01</td>\n",
       "      <td>001</td>\n",
       "      <td>Alabama</td>\n",
       "      <td>Autauga County</td>\n",
       "      <td>12</td>\n",
       "      <td>0</td>\n",
       "      <td>55869</td>\n",
       "      <td>27092</td>\n",
       "      <td>28777</td>\n",
       "      <td>...</td>\n",
       "      <td>778</td>\n",
       "      <td>687</td>\n",
       "      <td>89</td>\n",
       "      <td>93</td>\n",
       "      <td>40</td>\n",
       "      <td>27</td>\n",
       "      <td>15</td>\n",
       "      <td>19</td>\n",
       "      <td>16</td>\n",
       "      <td>11</td>\n",
       "    </tr>\n",
       "    <tr>\n",
       "      <th>01001</th>\n",
       "      <td>50</td>\n",
       "      <td>01</td>\n",
       "      <td>001</td>\n",
       "      <td>Alabama</td>\n",
       "      <td>Autauga County</td>\n",
       "      <td>12</td>\n",
       "      <td>1</td>\n",
       "      <td>3277</td>\n",
       "      <td>1713</td>\n",
       "      <td>1564</td>\n",
       "      <td>...</td>\n",
       "      <td>76</td>\n",
       "      <td>53</td>\n",
       "      <td>10</td>\n",
       "      <td>6</td>\n",
       "      <td>6</td>\n",
       "      <td>5</td>\n",
       "      <td>3</td>\n",
       "      <td>4</td>\n",
       "      <td>3</td>\n",
       "      <td>3</td>\n",
       "    </tr>\n",
       "    <tr>\n",
       "      <th>01001</th>\n",
       "      <td>50</td>\n",
       "      <td>01</td>\n",
       "      <td>001</td>\n",
       "      <td>Alabama</td>\n",
       "      <td>Autauga County</td>\n",
       "      <td>12</td>\n",
       "      <td>2</td>\n",
       "      <td>3465</td>\n",
       "      <td>1787</td>\n",
       "      <td>1678</td>\n",
       "      <td>...</td>\n",
       "      <td>83</td>\n",
       "      <td>59</td>\n",
       "      <td>2</td>\n",
       "      <td>10</td>\n",
       "      <td>8</td>\n",
       "      <td>2</td>\n",
       "      <td>2</td>\n",
       "      <td>0</td>\n",
       "      <td>1</td>\n",
       "      <td>1</td>\n",
       "    </tr>\n",
       "    <tr>\n",
       "      <th>01001</th>\n",
       "      <td>50</td>\n",
       "      <td>01</td>\n",
       "      <td>001</td>\n",
       "      <td>Alabama</td>\n",
       "      <td>Autauga County</td>\n",
       "      <td>12</td>\n",
       "      <td>3</td>\n",
       "      <td>3851</td>\n",
       "      <td>1977</td>\n",
       "      <td>1874</td>\n",
       "      <td>...</td>\n",
       "      <td>84</td>\n",
       "      <td>67</td>\n",
       "      <td>11</td>\n",
       "      <td>12</td>\n",
       "      <td>2</td>\n",
       "      <td>2</td>\n",
       "      <td>1</td>\n",
       "      <td>2</td>\n",
       "      <td>2</td>\n",
       "      <td>1</td>\n",
       "    </tr>\n",
       "    <tr>\n",
       "      <th>01001</th>\n",
       "      <td>50</td>\n",
       "      <td>01</td>\n",
       "      <td>001</td>\n",
       "      <td>Alabama</td>\n",
       "      <td>Autauga County</td>\n",
       "      <td>12</td>\n",
       "      <td>4</td>\n",
       "      <td>3659</td>\n",
       "      <td>1854</td>\n",
       "      <td>1805</td>\n",
       "      <td>...</td>\n",
       "      <td>55</td>\n",
       "      <td>68</td>\n",
       "      <td>7</td>\n",
       "      <td>6</td>\n",
       "      <td>4</td>\n",
       "      <td>5</td>\n",
       "      <td>0</td>\n",
       "      <td>4</td>\n",
       "      <td>3</td>\n",
       "      <td>0</td>\n",
       "    </tr>\n",
       "  </tbody>\n",
       "</table>\n",
       "<p>5 rows × 80 columns</p>\n",
       "</div>"
      ],
      "text/plain": [
       "       SUMLEV STATE COUNTY   STNAME         CTYNAME  YEAR  AGEGRP  TOT_POP  \\\n",
       "fips                                                                         \n",
       "01001      50    01    001  Alabama  Autauga County    12       0    55869   \n",
       "01001      50    01    001  Alabama  Autauga County    12       1     3277   \n",
       "01001      50    01    001  Alabama  Autauga County    12       2     3465   \n",
       "01001      50    01    001  Alabama  Autauga County    12       3     3851   \n",
       "01001      50    01    001  Alabama  Autauga County    12       4     3659   \n",
       "\n",
       "       TOT_MALE  TOT_FEMALE  ...  HWAC_MALE  HWAC_FEMALE  HBAC_MALE  \\\n",
       "fips                         ...                                      \n",
       "01001     27092       28777  ...        778          687         89   \n",
       "01001      1713        1564  ...         76           53         10   \n",
       "01001      1787        1678  ...         83           59          2   \n",
       "01001      1977        1874  ...         84           67         11   \n",
       "01001      1854        1805  ...         55           68          7   \n",
       "\n",
       "       HBAC_FEMALE  HIAC_MALE  HIAC_FEMALE  HAAC_MALE  HAAC_FEMALE  HNAC_MALE  \\\n",
       "fips                                                                            \n",
       "01001           93         40           27         15           19         16   \n",
       "01001            6          6            5          3            4          3   \n",
       "01001           10          8            2          2            0          1   \n",
       "01001           12          2            2          1            2          2   \n",
       "01001            6          4            5          0            4          3   \n",
       "\n",
       "       HNAC_FEMALE  \n",
       "fips                \n",
       "01001           11  \n",
       "01001            3  \n",
       "01001            1  \n",
       "01001            1  \n",
       "01001            0  \n",
       "\n",
       "[5 rows x 80 columns]"
      ]
     },
     "execution_count": 8,
     "metadata": {},
     "output_type": "execute_result"
    }
   ],
   "source": [
    "dm_raw = pd.read_csv('cc-est2019-alldata.csv', encoding='ISO-8859-1', dtype={'STATE': str, 'COUNTY': str})\n",
    "dm_raw = dm_raw[dm_raw.YEAR==12]\n",
    "dm_raw['fips'] = dm_raw.STATE + dm_raw.COUNTY\n",
    "dm_raw = dm_raw.set_index('fips')\n",
    "dm_raw.head()"
   ]
  },
  {
   "cell_type": "code",
   "execution_count": 9,
   "metadata": {},
   "outputs": [],
   "source": [
    "dm_raw['minority'] = dm_raw.TOT_POP - (dm_raw.WA_MALE + dm_raw.WA_FEMALE)\n",
    "dm_raw['black'] = dm_raw.BA_MALE + dm_raw.BA_FEMALE\n",
    "dm_raw['hispanic'] = dm_raw.H_MALE + dm_raw.H_FEMALE\n",
    "dm_all = dm_raw[dm_raw.AGEGRP == 0][['minority', 'black', 'hispanic', 'TOT_POP']]"
   ]
  },
  {
   "cell_type": "code",
   "execution_count": 10,
   "metadata": {},
   "outputs": [],
   "source": [
    "dm_old = dm_raw[['AGEGRP', 'TOT_POP']][dm_raw.AGEGRP >= 14].reset_index().groupby('fips').sum()\n",
    "dm_old = dm_old.rename(columns={'TOT_POP': '65yrs'}).drop(['AGEGRP'], axis=1)"
   ]
  },
  {
   "cell_type": "code",
   "execution_count": 11,
   "metadata": {},
   "outputs": [],
   "source": [
    "dm = dm_old.join(dm_all)"
   ]
  },
  {
   "cell_type": "code",
   "execution_count": 12,
   "metadata": {},
   "outputs": [],
   "source": [
    "columns = dm.columns\n",
    "for c in ['65yrs', 'minority', 'black', 'hispanic']:\n",
    "    pc = 'perc_' + c\n",
    "    dm[pc] = dm[c] / dm.TOT_POP"
   ]
  },
  {
   "cell_type": "markdown",
   "metadata": {},
   "source": [
    "### Sanity check for demographic dataframe (dm)\n",
    "passed"
   ]
  },
  {
   "cell_type": "code",
   "execution_count": 13,
   "metadata": {},
   "outputs": [
    {
     "name": "stdout",
     "output_type": "stream",
     "text": [
      "black percentage = 13.4%\n",
      "hispanic percentage = 18.5%\n",
      "minority percentage = 23.7%\n",
      "population over 65yrs = 54058263.0\n"
     ]
    }
   ],
   "source": [
    "summation = dm.sum(axis=0)\n",
    "perc_black = summation['black'] / summation['TOT_POP']\n",
    "print(f'black percentage = {100 * perc_black:.1f}%')\n",
    "perc_hispanic = summation['hispanic'] / summation['TOT_POP']\n",
    "print(f'hispanic percentage = {100 * perc_hispanic:.1f}%')\n",
    "perc_minority = summation['minority'] / summation['TOT_POP']\n",
    "print(f'minority percentage = {100 * perc_minority:.1f}%')\n",
    "print(f\"population over 65yrs = {summation['65yrs']}\")"
   ]
  },
  {
   "cell_type": "markdown",
   "metadata": {},
   "source": [
    "### Covid data"
   ]
  },
  {
   "cell_type": "code",
   "execution_count": 22,
   "metadata": {},
   "outputs": [],
   "source": [
    "df_covid_raw = pd.read_csv('time_series_covid19_confirmed_US_2020-10-17.csv').dropna()\n",
    "df_covid_raw['FIPS'] = df_covid_raw['FIPS'].apply(lambda x: str(int(x)).zfill(5))\n",
    "df_covid_raw = df_covid_raw.rename(columns={'FIPS': 'fips'}).set_index('fips')\n",
    "df_covid_raw = df_covid_raw.drop([\n",
    "    'UID', 'iso2', 'iso3', 'code3', \n",
    "    'Admin2', 'Province_State', 'Country_Region', \n",
    "    'Lat', 'Long_', 'Combined_Key'], axis=1)\n",
    "\n",
    "covid_chosen = ['4/15/20', '6/15/20', '7/15/20', '9/15/20', df_covid_raw.columns[-1]]\n",
    "\n",
    "df_covid_chosen = df_covid_raw[covid_chosen]\n",
    "df_covid_period = df_covid_raw[['4/15/20']].copy()\n",
    "\n",
    "for i in range(len(covid_chosen))[::-1][:-1]:\n",
    "    col = covid_chosen[i]\n",
    "    col_prev = covid_chosen[i - 1]\n",
    "    df_covid_period[col] = df_covid_chosen[col] - df_covid_chosen[col_prev]\n",
    "\n",
    "df_covid_period = df_covid_period[covid_chosen]\n",
    "df_covid_period['covid'] = df_covid_raw[df_covid_raw.columns[-1]]"
   ]
  },
  {
   "cell_type": "code",
   "execution_count": 34,
   "metadata": {},
   "outputs": [
    {
     "data": {
      "text/html": [
       "<div>\n",
       "<style scoped>\n",
       "    .dataframe tbody tr th:only-of-type {\n",
       "        vertical-align: middle;\n",
       "    }\n",
       "\n",
       "    .dataframe tbody tr th {\n",
       "        vertical-align: top;\n",
       "    }\n",
       "\n",
       "    .dataframe thead th {\n",
       "        text-align: right;\n",
       "    }\n",
       "</style>\n",
       "<table border=\"1\" class=\"dataframe\">\n",
       "  <thead>\n",
       "    <tr style=\"text-align: right;\">\n",
       "      <th></th>\n",
       "      <th>4/15/20</th>\n",
       "      <th>6/15/20</th>\n",
       "      <th>7/15/20</th>\n",
       "      <th>9/15/20</th>\n",
       "      <th>10/17/20</th>\n",
       "      <th>covid</th>\n",
       "      <th>4/15/20pc</th>\n",
       "      <th>6/15/20pc</th>\n",
       "      <th>7/15/20pc</th>\n",
       "      <th>9/15/20pc</th>\n",
       "      <th>10/17/20pc</th>\n",
       "      <th>covidpc</th>\n",
       "    </tr>\n",
       "    <tr>\n",
       "      <th>fips</th>\n",
       "      <th></th>\n",
       "      <th></th>\n",
       "      <th></th>\n",
       "      <th></th>\n",
       "      <th></th>\n",
       "      <th></th>\n",
       "      <th></th>\n",
       "      <th></th>\n",
       "      <th></th>\n",
       "      <th></th>\n",
       "      <th></th>\n",
       "      <th></th>\n",
       "    </tr>\n",
       "  </thead>\n",
       "  <tbody>\n",
       "    <tr>\n",
       "      <th>01001</th>\n",
       "      <td>24</td>\n",
       "      <td>340.0</td>\n",
       "      <td>379.0</td>\n",
       "      <td>720.0</td>\n",
       "      <td>520.0</td>\n",
       "      <td>1983.0</td>\n",
       "      <td>0.000430</td>\n",
       "      <td>0.006086</td>\n",
       "      <td>0.006784</td>\n",
       "      <td>0.012887</td>\n",
       "      <td>0.009307</td>\n",
       "      <td>0.035494</td>\n",
       "    </tr>\n",
       "    <tr>\n",
       "      <th>01003</th>\n",
       "      <td>91</td>\n",
       "      <td>277.0</td>\n",
       "      <td>1131.0</td>\n",
       "      <td>3313.0</td>\n",
       "      <td>1538.0</td>\n",
       "      <td>6350.0</td>\n",
       "      <td>0.000408</td>\n",
       "      <td>0.001241</td>\n",
       "      <td>0.005066</td>\n",
       "      <td>0.014841</td>\n",
       "      <td>0.006890</td>\n",
       "      <td>0.028445</td>\n",
       "    </tr>\n",
       "    <tr>\n",
       "      <th>01005</th>\n",
       "      <td>12</td>\n",
       "      <td>225.0</td>\n",
       "      <td>189.0</td>\n",
       "      <td>203.0</td>\n",
       "      <td>348.0</td>\n",
       "      <td>977.0</td>\n",
       "      <td>0.000486</td>\n",
       "      <td>0.009114</td>\n",
       "      <td>0.007656</td>\n",
       "      <td>0.008223</td>\n",
       "      <td>0.014097</td>\n",
       "      <td>0.039577</td>\n",
       "    </tr>\n",
       "    <tr>\n",
       "      <th>01007</th>\n",
       "      <td>18</td>\n",
       "      <td>90.0</td>\n",
       "      <td>130.0</td>\n",
       "      <td>342.0</td>\n",
       "      <td>195.0</td>\n",
       "      <td>775.0</td>\n",
       "      <td>0.000804</td>\n",
       "      <td>0.004019</td>\n",
       "      <td>0.005805</td>\n",
       "      <td>0.015272</td>\n",
       "      <td>0.008708</td>\n",
       "      <td>0.034607</td>\n",
       "    </tr>\n",
       "    <tr>\n",
       "      <th>01009</th>\n",
       "      <td>17</td>\n",
       "      <td>97.0</td>\n",
       "      <td>253.0</td>\n",
       "      <td>772.0</td>\n",
       "      <td>668.0</td>\n",
       "      <td>1807.0</td>\n",
       "      <td>0.000294</td>\n",
       "      <td>0.001677</td>\n",
       "      <td>0.004375</td>\n",
       "      <td>0.013350</td>\n",
       "      <td>0.011552</td>\n",
       "      <td>0.031249</td>\n",
       "    </tr>\n",
       "  </tbody>\n",
       "</table>\n",
       "</div>"
      ],
      "text/plain": [
       "       4/15/20  6/15/20  7/15/20  9/15/20  10/17/20   covid  4/15/20pc  \\\n",
       "fips                                                                     \n",
       "01001       24    340.0    379.0    720.0     520.0  1983.0   0.000430   \n",
       "01003       91    277.0   1131.0   3313.0    1538.0  6350.0   0.000408   \n",
       "01005       12    225.0    189.0    203.0     348.0   977.0   0.000486   \n",
       "01007       18     90.0    130.0    342.0     195.0   775.0   0.000804   \n",
       "01009       17     97.0    253.0    772.0     668.0  1807.0   0.000294   \n",
       "\n",
       "       6/15/20pc  7/15/20pc  9/15/20pc  10/17/20pc   covidpc  \n",
       "fips                                                          \n",
       "01001   0.006086   0.006784   0.012887    0.009307  0.035494  \n",
       "01003   0.001241   0.005066   0.014841    0.006890  0.028445  \n",
       "01005   0.009114   0.007656   0.008223    0.014097  0.039577  \n",
       "01007   0.004019   0.005805   0.015272    0.008708  0.034607  \n",
       "01009   0.001677   0.004375   0.013350    0.011552  0.031249  "
      ]
     },
     "execution_count": 34,
     "metadata": {},
     "output_type": "execute_result"
    }
   ],
   "source": [
    "df_covid = df_covid_period.join(dm[['TOT_POP']])\n",
    "for col in df_covid_period.columns:\n",
    "    new_col = col + 'pc'\n",
    "    df_covid[new_col] = df_covid[col] / df_covid['TOT_POP']\n",
    "df_covid.drop(['TOT_POP'], axis=1, inplace=True)\n",
    "df_covid.head()"
   ]
  },
  {
   "cell_type": "markdown",
   "metadata": {},
   "source": [
    "### Risk data\n",
    "For Ishanu:\n",
    "1. The `A_B` column of the risk dataframe `rf` means llk of disease model `B` generating disease time series `A`;\n",
    "2. Now risk is defined to be `2 / (llk Staph generating Staph + llk Strep generating Strep)`;\n",
    "3. Now risk_flu is defined to be `1 / llk of flu model generating flu sequence`;\n",
    "4. Feel free to try other formulae for risk."
   ]
  },
  {
   "cell_type": "code",
   "execution_count": 14,
   "metadata": {},
   "outputs": [],
   "source": [
    "rf = pd.read_csv('county_pop_risk_covid.csv', dtype={'county': str})\n",
    "rf = rf.rename(columns={'county': 'fips'}).set_index('fips')\n",
    "rf['risk'] = 2 / (rf['Staphylococcus_Staphylococcus'] + rf['Streptococcal_Streptococcal'])"
   ]
  },
  {
   "cell_type": "markdown",
   "metadata": {},
   "source": [
    "### Combine demographic, SES, rural, risk, and covid dataframe\n",
    "For Ishanu: df here has a column of population over 65yrs"
   ]
  },
  {
   "cell_type": "code",
   "execution_count": 37,
   "metadata": {},
   "outputs": [
    {
     "data": {
      "text/plain": [
       "Index(['65yrs', 'minority', 'black', 'hispanic', 'population', 'perc_65yrs',\n",
       "       'perc_minority', 'perc_black', 'perc_hispanic', 'poverty',\n",
       "       'perc_poverty', 'income', 'risk', 'risk_flu', 'perc_rural_pop',\n",
       "       '4/15/20', '6/15/20', '7/15/20', '9/15/20', '10/17/20', 'covid',\n",
       "       '4/15/20pc', '6/15/20pc', '7/15/20pc', '9/15/20pc', '10/17/20pc',\n",
       "       'covidpc'],\n",
       "      dtype='object')"
      ]
     },
     "execution_count": 37,
     "metadata": {},
     "output_type": "execute_result"
    }
   ],
   "source": [
    "risk_cols = ['risk', 'risk_flu']\n",
    "df = dm.join(pe, how='inner')\\\n",
    "    .join(rf[risk_cols], how='inner')\\\n",
    "    .join(df_rural, how='inner')\\\n",
    "    .join(df_covid, how='inner')\\\n",
    "    .rename(columns={\n",
    "        'POVALL_2018': 'poverty',\n",
    "        'PCTPOVALL_2018': 'perc_poverty', \n",
    "        'MEDHHINC_2018': 'income', \n",
    "        'TOT_POP': 'population'})\n",
    "df.columns"
   ]
  },
  {
   "cell_type": "markdown",
   "metadata": {},
   "source": [
    "## Preprocess for regression"
   ]
  },
  {
   "cell_type": "code",
   "execution_count": 13,
   "metadata": {},
   "outputs": [],
   "source": [
    "df_regr = df[[\n",
    "    'perc_65yrs',\n",
    "    'perc_minority',\n",
    "    'perc_black', \n",
    "    'perc_hispanic', \n",
    "    'perc_poverty',\n",
    "    'income', \n",
    "    'population',\n",
    "    'risk',\n",
    "    'risk_flu', \n",
    "    'covid', \n",
    "    'covidpc'\n",
    "]]\n",
    "# df_regr['risk_flu*population'] = df_regr['risk_flu'] * df_regr['population']"
   ]
  },
  {
   "cell_type": "code",
   "execution_count": 14,
   "metadata": {},
   "outputs": [],
   "source": [
    "covariates = [\n",
    "    'population', \n",
    "    'perc_65yrs', \n",
    "    'perc_minority', \n",
    "    'perc_black', \n",
    "    'perc_hispanic', \n",
    "    'perc_poverty', \n",
    "    'income',\n",
    "    'risk', \n",
    "    'risk_flu',\n",
    "    # 'risk_flu*population'\n",
    "]"
   ]
  },
  {
   "cell_type": "markdown",
   "metadata": {},
   "source": [
    "### Z-ify the covariates and `covidpc`. \n",
    "But don't z-ify `covid` because we are going to fit a Poisson"
   ]
  },
  {
   "cell_type": "code",
   "execution_count": 15,
   "metadata": {},
   "outputs": [
    {
     "data": {
      "text/html": [
       "<div>\n",
       "<style scoped>\n",
       "    .dataframe tbody tr th:only-of-type {\n",
       "        vertical-align: middle;\n",
       "    }\n",
       "\n",
       "    .dataframe tbody tr th {\n",
       "        vertical-align: top;\n",
       "    }\n",
       "\n",
       "    .dataframe thead th {\n",
       "        text-align: right;\n",
       "    }\n",
       "</style>\n",
       "<table border=\"1\" class=\"dataframe\">\n",
       "  <thead>\n",
       "    <tr style=\"text-align: right;\">\n",
       "      <th></th>\n",
       "      <th>covid</th>\n",
       "      <th>covidpc</th>\n",
       "      <th>population</th>\n",
       "      <th>perc_65yrs</th>\n",
       "      <th>perc_minority</th>\n",
       "      <th>perc_black</th>\n",
       "      <th>perc_hispanic</th>\n",
       "      <th>perc_poverty</th>\n",
       "      <th>income</th>\n",
       "      <th>risk</th>\n",
       "      <th>risk_flu</th>\n",
       "    </tr>\n",
       "    <tr>\n",
       "      <th>fips</th>\n",
       "      <th></th>\n",
       "      <th></th>\n",
       "      <th></th>\n",
       "      <th></th>\n",
       "      <th></th>\n",
       "      <th></th>\n",
       "      <th></th>\n",
       "      <th></th>\n",
       "      <th></th>\n",
       "      <th></th>\n",
       "      <th></th>\n",
       "    </tr>\n",
       "  </thead>\n",
       "  <tbody>\n",
       "    <tr>\n",
       "      <th>01001</th>\n",
       "      <td>1839</td>\n",
       "      <td>0.834474</td>\n",
       "      <td>-0.149053</td>\n",
       "      <td>-0.794110</td>\n",
       "      <td>0.512704</td>\n",
       "      <td>0.741331</td>\n",
       "      <td>-0.489701</td>\n",
       "      <td>-0.225017</td>\n",
       "      <td>0.480936</td>\n",
       "      <td>0.758899</td>\n",
       "      <td>0.815284</td>\n",
       "    </tr>\n",
       "    <tr>\n",
       "      <th>01003</th>\n",
       "      <td>6116</td>\n",
       "      <td>0.464835</td>\n",
       "      <td>0.349320</td>\n",
       "      <td>0.257407</td>\n",
       "      <td>-0.180112</td>\n",
       "      <td>-0.042335</td>\n",
       "      <td>-0.365710</td>\n",
       "      <td>-0.883379</td>\n",
       "      <td>0.353735</td>\n",
       "      <td>1.060673</td>\n",
       "      <td>1.170239</td>\n",
       "    </tr>\n",
       "    <tr>\n",
       "      <th>01005</th>\n",
       "      <td>923</td>\n",
       "      <td>1.133801</td>\n",
       "      <td>-0.241908</td>\n",
       "      <td>-0.012918</td>\n",
       "      <td>2.192827</td>\n",
       "      <td>2.685013</td>\n",
       "      <td>-0.379630</td>\n",
       "      <td>2.589482</td>\n",
       "      <td>-1.333023</td>\n",
       "      <td>-0.049015</td>\n",
       "      <td>-0.009922</td>\n",
       "    </tr>\n",
       "    <tr>\n",
       "      <th>01007</th>\n",
       "      <td>691</td>\n",
       "      <td>0.696529</td>\n",
       "      <td>-0.248733</td>\n",
       "      <td>-0.647764</td>\n",
       "      <td>0.481482</td>\n",
       "      <td>0.821242</td>\n",
       "      <td>-0.504694</td>\n",
       "      <td>1.091708</td>\n",
       "      <td>-0.483902</td>\n",
       "      <td>0.035787</td>\n",
       "      <td>0.084791</td>\n",
       "    </tr>\n",
       "    <tr>\n",
       "      <th>01009</th>\n",
       "      <td>1665</td>\n",
       "      <td>0.557914</td>\n",
       "      <td>-0.143225</td>\n",
       "      <td>-0.220996</td>\n",
       "      <td>-0.699751</td>\n",
       "      <td>-0.532157</td>\n",
       "      <td>-0.011633</td>\n",
       "      <td>-0.323771</td>\n",
       "      <td>-0.167862</td>\n",
       "      <td>0.282300</td>\n",
       "      <td>0.338405</td>\n",
       "    </tr>\n",
       "  </tbody>\n",
       "</table>\n",
       "</div>"
      ],
      "text/plain": [
       "       covid   covidpc  population  perc_65yrs  perc_minority  perc_black  \\\n",
       "fips                                                                        \n",
       "01001   1839  0.834474   -0.149053   -0.794110       0.512704    0.741331   \n",
       "01003   6116  0.464835    0.349320    0.257407      -0.180112   -0.042335   \n",
       "01005    923  1.133801   -0.241908   -0.012918       2.192827    2.685013   \n",
       "01007    691  0.696529   -0.248733   -0.647764       0.481482    0.821242   \n",
       "01009   1665  0.557914   -0.143225   -0.220996      -0.699751   -0.532157   \n",
       "\n",
       "       perc_hispanic  perc_poverty    income      risk  risk_flu  \n",
       "fips                                                              \n",
       "01001      -0.489701     -0.225017  0.480936  0.758899  0.815284  \n",
       "01003      -0.365710     -0.883379  0.353735  1.060673  1.170239  \n",
       "01005      -0.379630      2.589482 -1.333023 -0.049015 -0.009922  \n",
       "01007      -0.504694      1.091708 -0.483902  0.035787  0.084791  \n",
       "01009      -0.011633     -0.323771 -0.167862  0.282300  0.338405  "
      ]
     },
     "execution_count": 15,
     "metadata": {},
     "output_type": "execute_result"
    }
   ],
   "source": [
    "df_regr_z = df[['covid', 'covidpc']].copy()\n",
    "for c in covariates + ['covidpc']:\n",
    "    mean, std = df_regr[c].mean(), df_regr[c].std()\n",
    "    df_regr_z[c] = (df_regr[c] - mean) / std\n",
    "\n",
    "df_regr_z.head()"
   ]
  },
  {
   "cell_type": "markdown",
   "metadata": {},
   "source": [
    "## Determine Variance Inflation Faction\n",
    "Since we are using Generalized Linear Model, we may not need to mention VIF"
   ]
  },
  {
   "cell_type": "code",
   "execution_count": 16,
   "metadata": {},
   "outputs": [
    {
     "data": {
      "text/html": [
       "<div>\n",
       "<style scoped>\n",
       "    .dataframe tbody tr th:only-of-type {\n",
       "        vertical-align: middle;\n",
       "    }\n",
       "\n",
       "    .dataframe tbody tr th {\n",
       "        vertical-align: top;\n",
       "    }\n",
       "\n",
       "    .dataframe thead th {\n",
       "        text-align: right;\n",
       "    }\n",
       "</style>\n",
       "<table border=\"1\" class=\"dataframe\">\n",
       "  <thead>\n",
       "    <tr style=\"text-align: right;\">\n",
       "      <th></th>\n",
       "      <th>VIF Factor</th>\n",
       "      <th>features</th>\n",
       "    </tr>\n",
       "  </thead>\n",
       "  <tbody>\n",
       "    <tr>\n",
       "      <th>0</th>\n",
       "      <td>1.0</td>\n",
       "      <td>Intercept</td>\n",
       "    </tr>\n",
       "    <tr>\n",
       "      <th>1</th>\n",
       "      <td>1.6</td>\n",
       "      <td>population</td>\n",
       "    </tr>\n",
       "    <tr>\n",
       "      <th>2</th>\n",
       "      <td>1.6</td>\n",
       "      <td>perc_65yrs</td>\n",
       "    </tr>\n",
       "    <tr>\n",
       "      <th>3</th>\n",
       "      <td>4.5</td>\n",
       "      <td>perc_minority</td>\n",
       "    </tr>\n",
       "    <tr>\n",
       "      <th>4</th>\n",
       "      <td>4.0</td>\n",
       "      <td>perc_black</td>\n",
       "    </tr>\n",
       "    <tr>\n",
       "      <th>5</th>\n",
       "      <td>1.2</td>\n",
       "      <td>perc_hispanic</td>\n",
       "    </tr>\n",
       "    <tr>\n",
       "      <th>6</th>\n",
       "      <td>4.5</td>\n",
       "      <td>perc_poverty</td>\n",
       "    </tr>\n",
       "    <tr>\n",
       "      <th>7</th>\n",
       "      <td>4.1</td>\n",
       "      <td>income</td>\n",
       "    </tr>\n",
       "    <tr>\n",
       "      <th>8</th>\n",
       "      <td>294.1</td>\n",
       "      <td>risk</td>\n",
       "    </tr>\n",
       "    <tr>\n",
       "      <th>9</th>\n",
       "      <td>295.4</td>\n",
       "      <td>risk_flu</td>\n",
       "    </tr>\n",
       "  </tbody>\n",
       "</table>\n",
       "</div>"
      ],
      "text/plain": [
       "   VIF Factor       features\n",
       "0         1.0      Intercept\n",
       "1         1.6     population\n",
       "2         1.6     perc_65yrs\n",
       "3         4.5  perc_minority\n",
       "4         4.0     perc_black\n",
       "5         1.2  perc_hispanic\n",
       "6         4.5   perc_poverty\n",
       "7         4.1         income\n",
       "8       294.1           risk\n",
       "9       295.4       risk_flu"
      ]
     },
     "execution_count": 16,
     "metadata": {},
     "output_type": "execute_result"
    }
   ],
   "source": [
    "y, X = dmatrices(\n",
    "    'covidpc~' + '+'.join(covariates), \n",
    "    df_regr_z, \n",
    "    return_type='dataframe')\n",
    "\n",
    "vif = pd.DataFrame()\n",
    "vif[\"VIF Factor\"] = [variance_inflation_factor(X.values, i) for i in range(X.shape[1])]\n",
    "vif[\"features\"] = X.columns\n",
    "vif.round(1)"
   ]
  },
  {
   "cell_type": "markdown",
   "metadata": {},
   "source": [
    "## GLM Models"
   ]
  },
  {
   "cell_type": "markdown",
   "metadata": {},
   "source": [
    "### With both risk"
   ]
  },
  {
   "cell_type": "code",
   "execution_count": 17,
   "metadata": {},
   "outputs": [
    {
     "name": "stdout",
     "output_type": "stream",
     "text": [
      "covid~population+perc_65yrs+perc_minority+perc_black+perc_hispanic+perc_poverty+income+risk+risk_flu\n",
      "covidpc~population+perc_65yrs+perc_minority+perc_black+perc_hispanic+perc_poverty+income+risk+risk_flu\n"
     ]
    }
   ],
   "source": [
    "formula_covidpc = f\"covidpc~{'+'.join(covariates)}\" \n",
    "formula_covid = f\"covid~{'+'.join(covariates)}\" \n",
    "print(formula_covid)\n",
    "print(formula_covidpc)"
   ]
  },
  {
   "cell_type": "code",
   "execution_count": 18,
   "metadata": {},
   "outputs": [
    {
     "name": "stdout",
     "output_type": "stream",
     "text": [
      "                 Generalized Linear Model Regression Results                  \n",
      "==============================================================================\n",
      "Dep. Variable:                covidpc   No. Observations:                 3086\n",
      "Model:                            GLM   Df Residuals:                     3076\n",
      "Model Family:                Gaussian   Df Model:                            9\n",
      "Link Function:                    log   Scale:                         0.83637\n",
      "Method:                          IRLS   Log-Likelihood:                -4098.1\n",
      "Date:                Fri, 23 Oct 2020   Deviance:                       2572.7\n",
      "Time:                        00:51:07   Pearson chi2:                 2.57e+03\n",
      "No. Iterations:                   100                                         \n",
      "Covariance Type:            nonrobust                                         \n",
      "=================================================================================\n",
      "                    coef    std err          z      P>|z|      [0.025      0.975]\n",
      "---------------------------------------------------------------------------------\n",
      "Intercept        -2.5589      0.106    -24.158      0.000      -2.767      -2.351\n",
      "population       -0.0859      0.107     -0.801      0.423      -0.296       0.124\n",
      "perc_65yrs       -0.9777      0.064    -15.256      0.000      -1.103      -0.852\n",
      "perc_minority    -0.0900      0.062     -1.454      0.146      -0.211       0.031\n",
      "perc_black        0.4293      0.048      8.989      0.000       0.336       0.523\n",
      "perc_hispanic     0.1915      0.030      6.348      0.000       0.132       0.251\n",
      "perc_poverty      0.0573      0.059      0.967      0.333      -0.059       0.173\n",
      "income           -0.7451      0.141     -5.300      0.000      -1.021      -0.470\n",
      "risk             -2.5164      0.813     -3.094      0.002      -4.110      -0.922\n",
      "risk_flu          2.4309      0.789      3.081      0.002       0.885       3.977\n",
      "=================================================================================\n"
     ]
    }
   ],
   "source": [
    "model_covidpc = smf.glm(\n",
    "    formula=formula_covidpc,\n",
    "    data=df_regr_z,\n",
    "    family=sm.families.Gaussian(sm.families.links.log())\n",
    ").fit()\n",
    "print(model_covidpc.summary())"
   ]
  },
  {
   "cell_type": "code",
   "execution_count": 19,
   "metadata": {},
   "outputs": [
    {
     "name": "stdout",
     "output_type": "stream",
     "text": [
      "                 Generalized Linear Model Regression Results                  \n",
      "==============================================================================\n",
      "Dep. Variable:                  covid   No. Observations:                 3086\n",
      "Model:                            GLM   Df Residuals:                     3076\n",
      "Model Family:                 Poisson   Df Model:                            9\n",
      "Link Function:                    log   Scale:                          1.0000\n",
      "Method:                          IRLS   Log-Likelihood:            -1.5511e+06\n",
      "Date:                Fri, 23 Oct 2020   Deviance:                   3.0778e+06\n",
      "Time:                        00:51:17   Pearson chi2:                 3.86e+06\n",
      "No. Iterations:                     6                                         \n",
      "Covariance Type:            nonrobust                                         \n",
      "=================================================================================\n",
      "                    coef    std err          z      P>|z|      [0.025      0.975]\n",
      "---------------------------------------------------------------------------------\n",
      "Intercept         6.7162      0.001   9748.568      0.000       6.715       6.718\n",
      "population        0.0682   7.62e-05    895.434      0.000       0.068       0.068\n",
      "perc_65yrs       -0.1982      0.001   -306.930      0.000      -0.199      -0.197\n",
      "perc_minority     0.0639      0.001     62.129      0.000       0.062       0.066\n",
      "perc_black        0.2077      0.001    217.546      0.000       0.206       0.210\n",
      "perc_hispanic     0.1643      0.000    427.187      0.000       0.164       0.165\n",
      "perc_poverty     -0.2401      0.001   -279.397      0.000      -0.242      -0.238\n",
      "income           -0.0971      0.001   -156.333      0.000      -0.098      -0.096\n",
      "risk              0.3566      0.003    105.792      0.000       0.350       0.363\n",
      "risk_flu          0.5503      0.004    156.232      0.000       0.543       0.557\n",
      "=================================================================================\n"
     ]
    }
   ],
   "source": [
    "model_covid = smf.glm(\n",
    "    formula=formula_covid,\n",
    "    data=df_regr_z,\n",
    "    family=sm.families.Poisson(sm.families.links.log())\n",
    ").fit()\n",
    "print(model_covid.summary())"
   ]
  },
  {
   "cell_type": "markdown",
   "metadata": {},
   "source": [
    "### Without risk"
   ]
  },
  {
   "cell_type": "code",
   "execution_count": 20,
   "metadata": {},
   "outputs": [],
   "source": [
    "formula_covid = 'covid~population+perc_65yrs+perc_minority+perc_black+perc_hispanic+perc_poverty+income'\n",
    "formula_covidpc = 'covidpc~population+perc_65yrs+perc_minority+perc_black+perc_hispanic+perc_poverty+income'"
   ]
  },
  {
   "cell_type": "code",
   "execution_count": 21,
   "metadata": {},
   "outputs": [
    {
     "name": "stdout",
     "output_type": "stream",
     "text": [
      "                 Generalized Linear Model Regression Results                  \n",
      "==============================================================================\n",
      "Dep. Variable:                covidpc   No. Observations:                 3094\n",
      "Model:                            GLM   Df Residuals:                     3086\n",
      "Model Family:                Gaussian   Df Model:                            7\n",
      "Link Function:                    log   Scale:                         0.83175\n",
      "Method:                          IRLS   Log-Likelihood:                -4101.2\n",
      "Date:                Fri, 23 Oct 2020   Deviance:                       2566.8\n",
      "Time:                        00:51:30   Pearson chi2:                 2.57e+03\n",
      "No. Iterations:                   100                                         \n",
      "Covariance Type:            nonrobust                                         \n",
      "=================================================================================\n",
      "                    coef    std err          z      P>|z|      [0.025      0.975]\n",
      "---------------------------------------------------------------------------------\n",
      "Intercept        -2.3569      0.128    -18.409      0.000      -2.608      -2.106\n",
      "population       -0.5475      0.200     -2.735      0.006      -0.940      -0.155\n",
      "perc_65yrs       -0.9357      0.067    -13.865      0.000      -1.068      -0.803\n",
      "perc_minority    -0.1306      0.065     -2.024      0.043      -0.257      -0.004\n",
      "perc_black        0.4192      0.048      8.673      0.000       0.324       0.514\n",
      "perc_hispanic     0.1527      0.032      4.826      0.000       0.091       0.215\n",
      "perc_poverty      0.0441      0.060      0.738      0.461      -0.073       0.161\n",
      "income           -0.6728      0.156     -4.310      0.000      -0.979      -0.367\n",
      "=================================================================================\n"
     ]
    }
   ],
   "source": [
    "model_covidpc = smf.glm(\n",
    "    formula=formula_covidpc,\n",
    "    data=df_regr_z,\n",
    "    family=sm.families.Gaussian(sm.families.links.log())\n",
    ").fit()\n",
    "print(model_covidpc.summary())"
   ]
  },
  {
   "cell_type": "code",
   "execution_count": 22,
   "metadata": {},
   "outputs": [
    {
     "name": "stdout",
     "output_type": "stream",
     "text": [
      "                 Generalized Linear Model Regression Results                  \n",
      "==============================================================================\n",
      "Dep. Variable:                  covid   No. Observations:                 3094\n",
      "Model:                            GLM   Df Residuals:                     3086\n",
      "Model Family:                 Poisson   Df Model:                            7\n",
      "Link Function:                    log   Scale:                          1.0000\n",
      "Method:                          IRLS   Log-Likelihood:            -4.1485e+06\n",
      "Date:                Fri, 23 Oct 2020   Deviance:                   8.2723e+06\n",
      "Time:                        00:51:31   Pearson chi2:                 1.13e+07\n",
      "No. Iterations:                     7                                         \n",
      "Covariance Type:            nonrobust                                         \n",
      "=================================================================================\n",
      "                    coef    std err          z      P>|z|      [0.025      0.975]\n",
      "---------------------------------------------------------------------------------\n",
      "Intercept         7.0960      0.001   1.25e+04      0.000       7.095       7.097\n",
      "population        0.1430   5.17e-05   2762.616      0.000       0.143       0.143\n",
      "perc_65yrs       -0.3603      0.001   -647.353      0.000      -0.361      -0.359\n",
      "perc_minority     0.2103      0.001    278.924      0.000       0.209       0.212\n",
      "perc_black        0.4049      0.001    596.744      0.000       0.404       0.406\n",
      "perc_hispanic     0.4302      0.000   1279.639      0.000       0.430       0.431\n",
      "perc_poverty     -0.2971      0.001   -402.784      0.000      -0.299      -0.296\n",
      "income            0.2311      0.001    458.369      0.000       0.230       0.232\n",
      "=================================================================================\n"
     ]
    }
   ],
   "source": [
    "model_covid = smf.glm(\n",
    "    formula=formula_covid,\n",
    "    data=df_regr_z,\n",
    "    family=sm.families.Poisson(sm.families.links.log())\n",
    ").fit()\n",
    "print(model_covid.summary())"
   ]
  },
  {
   "cell_type": "markdown",
   "metadata": {},
   "source": [
    "### With only risk_flu"
   ]
  },
  {
   "cell_type": "code",
   "execution_count": 23,
   "metadata": {},
   "outputs": [],
   "source": [
    "formula_covid = 'covid~population+perc_65yrs+perc_minority+perc_black+perc_hispanic+perc_poverty+risk_flu'\n",
    "formula_covidpc = 'covidpc~population+perc_65yrs+perc_minority+perc_black+perc_hispanic+perc_poverty+risk_flu'"
   ]
  },
  {
   "cell_type": "code",
   "execution_count": 24,
   "metadata": {},
   "outputs": [
    {
     "name": "stdout",
     "output_type": "stream",
     "text": [
      "                 Generalized Linear Model Regression Results                  \n",
      "==============================================================================\n",
      "Dep. Variable:                covidpc   No. Observations:                 3086\n",
      "Model:                            GLM   Df Residuals:                     3078\n",
      "Model Family:                Gaussian   Df Model:                            7\n",
      "Link Function:                    log   Scale:                         0.84104\n",
      "Method:                          IRLS   Log-Likelihood:                -4107.7\n",
      "Date:                Fri, 23 Oct 2020   Deviance:                       2588.7\n",
      "Time:                        00:51:57   Pearson chi2:                 2.59e+03\n",
      "No. Iterations:                   100                                         \n",
      "Covariance Type:            nonrobust                                         \n",
      "=================================================================================\n",
      "                    coef    std err          z      P>|z|      [0.025      0.975]\n",
      "---------------------------------------------------------------------------------\n",
      "Intercept        -2.6103      0.128    -20.429      0.000      -2.861      -2.360\n",
      "population       -1.5506      0.375     -4.131      0.000      -2.286      -0.815\n",
      "perc_65yrs       -0.9146      0.071    -12.853      0.000      -1.054      -0.775\n",
      "perc_minority    -0.1343      0.074     -1.823      0.068      -0.279       0.010\n",
      "perc_black        0.5158      0.057      9.017      0.000       0.404       0.628\n",
      "perc_hispanic     0.2035      0.032      6.372      0.000       0.141       0.266\n",
      "perc_poverty      0.3071      0.037      8.200      0.000       0.234       0.380\n",
      "risk_flu          0.1866      0.079      2.357      0.018       0.031       0.342\n",
      "=================================================================================\n"
     ]
    }
   ],
   "source": [
    "model_covidpc = smf.glm(\n",
    "    formula=formula_covidpc,\n",
    "    data=df_regr_z,\n",
    "    family=sm.families.Gaussian(sm.families.links.log())\n",
    ").fit()\n",
    "print(model_covidpc.summary())"
   ]
  },
  {
   "cell_type": "code",
   "execution_count": 25,
   "metadata": {},
   "outputs": [
    {
     "name": "stdout",
     "output_type": "stream",
     "text": [
      "                 Generalized Linear Model Regression Results                  \n",
      "==============================================================================\n",
      "Dep. Variable:                  covid   No. Observations:                 3086\n",
      "Model:                            GLM   Df Residuals:                     3078\n",
      "Model Family:                 Poisson   Df Model:                            7\n",
      "Link Function:                    log   Scale:                          1.0000\n",
      "Method:                          IRLS   Log-Likelihood:            -1.5683e+06\n",
      "Date:                Fri, 23 Oct 2020   Deviance:                   3.1121e+06\n",
      "Time:                        00:51:58   Pearson chi2:                 3.91e+06\n",
      "No. Iterations:                     6                                         \n",
      "Covariance Type:            nonrobust                                         \n",
      "=================================================================================\n",
      "                    coef    std err          z      P>|z|      [0.025      0.975]\n",
      "---------------------------------------------------------------------------------\n",
      "Intercept         6.7143      0.001   9745.462      0.000       6.713       6.716\n",
      "population        0.0672    6.8e-05    987.669      0.000       0.067       0.067\n",
      "perc_65yrs       -0.1600      0.001   -271.147      0.000      -0.161      -0.159\n",
      "perc_minority     0.0031      0.001      3.470      0.001       0.001       0.005\n",
      "perc_black        0.2580      0.001    303.933      0.000       0.256       0.260\n",
      "perc_hispanic     0.1677      0.000    439.581      0.000       0.167       0.168\n",
      "perc_poverty     -0.1375      0.001   -249.719      0.000      -0.139      -0.136\n",
      "risk_flu          0.9064      0.000   2204.654      0.000       0.906       0.907\n",
      "=================================================================================\n"
     ]
    }
   ],
   "source": [
    "model_covid = smf.glm(\n",
    "    formula=formula_covid,\n",
    "    data=df_regr_z,\n",
    "    family=sm.families.Poisson(sm.families.links.log())\n",
    ").fit()\n",
    "print(model_covid.summary())"
   ]
  }
 ],
 "metadata": {
  "kernelspec": {
   "display_name": "Python 3",
   "language": "python",
   "name": "python3"
  },
  "language_info": {
   "codemirror_mode": {
    "name": "ipython",
    "version": 3
   },
   "file_extension": ".py",
   "mimetype": "text/x-python",
   "name": "python",
   "nbconvert_exporter": "python",
   "pygments_lexer": "ipython3",
   "version": "3.7.0"
  }
 },
 "nbformat": 4,
 "nbformat_minor": 2
}
