{
 "cells": [
  {
   "cell_type": "code",
   "execution_count": 1,
   "metadata": {},
   "outputs": [],
   "source": [
    "import pandas as pd\n",
    "import numpy as np\n",
    "from glob import glob"
   ]
  },
  {
   "cell_type": "code",
   "execution_count": 8,
   "metadata": {
    "scrolled": false
   },
   "outputs": [
    {
     "name": "stdout",
     "output_type": "stream",
     "text": [
      "1-wk-ahead-inc-death\n",
      "Columbia-UNC-SurvCon\n",
      "QJHong-Encounter\n",
      "            Columbia-UNC-SurvCon  QJHong-Encounter\n",
      "2020-07-18                   NaN            6786.0\n",
      "2020-07-25                6645.0            6175.0\n",
      "2020-08-01                6909.0            6957.0\n",
      "2020-08-08                7369.0            7715.0\n",
      "2020-08-15                6927.0            7568.0\n",
      "2020-08-22                7242.0            6897.0\n",
      "2020-08-29                6460.0            6551.0\n",
      "2020-09-05                6057.0            5892.0\n",
      "2020-09-12                5857.0            5415.0\n",
      "2020-09-19                5172.0            4922.0\n",
      "2020-09-26                5116.0            4511.0\n",
      "2020-10-03                5667.0            4849.0\n",
      "2020-10-10                5699.0            5077.0\n",
      "2020-10-17                5537.0            4979.0\n",
      "2020-10-24                5857.0            5025.0\n",
      "2020-10-31                6434.0            5542.0\n"
     ]
    },
    {
     "name": "stderr",
     "output_type": "stream",
     "text": [
      "/home/yihuang/.local/lib/python3.7/site-packages/ipykernel_launcher.py:18: FutureWarning: Sorting because non-concatenation axis is not aligned. A future version\n",
      "of pandas will change to not sort by default.\n",
      "\n",
      "To accept the future behavior, pass 'sort=False'.\n",
      "\n",
      "To retain the current behavior and silence the warning, pass 'sort=True'.\n",
      "\n"
     ]
    }
   ],
   "source": [
    "for horizon in [1]:#, 2]:\n",
    "    # target = f'{horizon}-wk-ahead-inc-case'\n",
    "    target = f'{horizon}-wk-ahead-inc-death'\n",
    "    print(target)\n",
    "    dfs = []\n",
    "    for csv_fname in sorted(glob('../CovidTeam_results/*csv')):\n",
    "        if (target not in csv_fname) or ('forecast' in csv_fname):\n",
    "            continue\n",
    "        team = csv_fname.split('/')[-1].split('_')[1]\n",
    "        print(team)\n",
    "\n",
    "        df = pd.read_csv(csv_fname)[['target_end_date', 'value']]\\\n",
    "            .groupby(by='target_end_date').max()\\\n",
    "            .rename(columns={'value': team})\n",
    "\n",
    "        dfs.append(df)\n",
    "\n",
    "    df_combined = pd.concat(dfs, axis=1, join='outer').round(0)\n",
    "    df_combined.to_csv(f'../CovidTeam_results/forecast_otherTeam_{target}.csv', float_format='%.0f')\n",
    "    print(df_combined)"
   ]
  },
  {
   "cell_type": "code",
   "execution_count": null,
   "metadata": {},
   "outputs": [],
   "source": []
  }
 ],
 "metadata": {
  "kernelspec": {
   "display_name": "Python 3",
   "language": "python",
   "name": "python3"
  },
  "language_info": {
   "codemirror_mode": {
    "name": "ipython",
    "version": 3
   },
   "file_extension": ".py",
   "mimetype": "text/x-python",
   "name": "python",
   "nbconvert_exporter": "python",
   "pygments_lexer": "ipython3",
   "version": "3.7.0"
  }
 },
 "nbformat": 4,
 "nbformat_minor": 2
}
