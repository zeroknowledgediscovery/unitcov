version https://git-lfs.github.com/spec/v1
oid sha256:85c86c54fad7682884b977c6f82d8e8cbe40d0eb911f89745c69c88ce5511d58
size 304017
