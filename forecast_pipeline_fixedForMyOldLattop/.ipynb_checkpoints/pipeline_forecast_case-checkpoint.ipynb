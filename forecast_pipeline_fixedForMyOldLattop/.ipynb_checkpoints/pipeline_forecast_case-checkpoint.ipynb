version https://git-lfs.github.com/spec/v1
oid sha256:cac6bfe1e2db4346dab32d0544e194b9d2d51dd686aecd0d6b65fb8dd64c7780
size 50470
