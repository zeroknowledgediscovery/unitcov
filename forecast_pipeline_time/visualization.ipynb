version https://git-lfs.github.com/spec/v1
oid sha256:d784e4230d3aadf17314b1a6106056fb928a24e88d51f9d0dab6c33b8e402c8d
size 391386
