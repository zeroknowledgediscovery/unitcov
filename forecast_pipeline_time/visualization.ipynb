version https://git-lfs.github.com/spec/v1
oid sha256:e05204d3e245a3a22dcb37cf1c59bd12a105a691f7ab203660fc08e3fd0e6421
size 270981
