version https://git-lfs.github.com/spec/v1
oid sha256:7ffe9a38c8b48593a421b2d72c934b09a0b64227ccab478f6ea05c8a9bf32e92
size 420980
