version https://git-lfs.github.com/spec/v1
oid sha256:78a4e2648713d900a158f735f4f86bf98f8e106990f9c7e81a833c7d7ee00010
size 109963
