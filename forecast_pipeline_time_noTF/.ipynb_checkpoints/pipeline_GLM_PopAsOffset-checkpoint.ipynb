version https://git-lfs.github.com/spec/v1
oid sha256:ff1303588dbd1660cb8cbd3343fe70e5e7aea9b24c47867bc9b36595183ccd82
size 281382
