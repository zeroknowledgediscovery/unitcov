version https://git-lfs.github.com/spec/v1
oid sha256:de3e948a76da3fbe569d8fb485b67724720f7bfe1f7e49e2e6814c96994d9908
size 28224520
