{
 "cells": [
  {
   "cell_type": "code",
   "execution_count": 1,
   "metadata": {},
   "outputs": [],
   "source": [
    "import pandas as pd"
   ]
  },
  {
   "cell_type": "code",
   "execution_count": 2,
   "metadata": {},
   "outputs": [],
   "source": [
    "df = pd.read_csv(f'results/Influenza_county.csv', dtype={'fips': str}).set_index('fips')"
   ]
  },
  {
   "cell_type": "markdown",
   "metadata": {},
   "source": [
    "## Get 6 weeks in each flu season"
   ]
  },
  {
   "cell_type": "code",
   "execution_count": 32,
   "metadata": {},
   "outputs": [],
   "source": [
    "def foo(date, year):\n",
    "    if not date.startswith('20'):\n",
    "        return False\n",
    "    month = int(date.split('-')[1])\n",
    "    a = date.startswith(str(year)) and month >= 10\n",
    "    b = date.startswith(str(year + 1)) and month <= 1\n",
    "    return a or b\n",
    "\n",
    "years = list(range(2003, 2012))\n",
    "\n",
    "starts_of_season = []\n",
    "seasons = []\n",
    "for year in years[:-1]:\n",
    "    cols = [col for col in df.columns if foo(col, year)][::3]\n",
    "    starts_of_season.append(cols[0])\n",
    "    seasons.append(cols)"
   ]
  },
  {
   "cell_type": "markdown",
   "metadata": {},
   "source": [
    "## Plot"
   ]
  },
  {
   "cell_type": "code",
   "execution_count": 33,
   "metadata": {},
   "outputs": [],
   "source": [
    "def plot(\n",
    "    df, \n",
    "    plot_col, \n",
    "    color_min=None, \n",
    "    color_max=None, \n",
    "    save_fname=None):\n",
    "\n",
    "    counties_webpage = 'https://raw.githubusercontent.com/plotly/datasets/master/geojson-counties-fips.json'\n",
    "    with urlopen(counties_webpage) as response:\n",
    "        counties = json.load(response)\n",
    "\n",
    "    if color_min is None:\n",
    "        color_min = df[plot_col].min()\n",
    "    if color_max is None:\n",
    "        color_max = df[plot_col].max()\n",
    "\n",
    "    fig = px.choropleth(\n",
    "        df, \n",
    "        geojson=counties, \n",
    "        locations='fips', \n",
    "        color=plot_col,\n",
    "        color_continuous_scale=\"Viridis\",\n",
    "        range_color=(color_min, color_max),\n",
    "        scope=\"usa\",\n",
    "    )\n",
    "\n",
    "    # ============================ update figure properties ===========================START\n",
    "    fig.update_layout(\n",
    "        margin={\n",
    "            'l': 0, \n",
    "            'b': 0, \n",
    "            'r': 0, \n",
    "            't': 0\n",
    "        }\n",
    "    )\n",
    "    # ============================ update figure properties ===========================END\n",
    "    \n",
    "    if save_fname is not None:\n",
    "        fig.write_image(\n",
    "            file=save_fname, \n",
    "            format='pdf', \n",
    "            engine='kaleido', \n",
    "            width=900, \n",
    "            height=540)\n",
    "\n",
    "    config = {'scrollZoom': False, 'displayModeBar': False}\n",
    "    fig.show(config=config)"
   ]
  },
  {
   "cell_type": "code",
   "execution_count": 35,
   "metadata": {},
   "outputs": [
    {
     "name": "stdout",
     "output_type": "stream",
     "text": [
      "['2003-10-01', '2003-10-22', '2003-11-12', '2003-12-03', '2003-12-24', '2004-01-14']\n",
      "['2004-10-06', '2004-10-27', '2004-11-17', '2004-12-08', '2004-12-29', '2005-01-19']\n",
      "['2005-10-05', '2005-10-26', '2005-11-16', '2005-12-07', '2005-12-28', '2006-01-18']\n",
      "['2006-10-04', '2006-10-25', '2006-11-15', '2006-12-06', '2006-12-27', '2007-01-17']\n",
      "['2007-10-03', '2007-10-24', '2007-11-14', '2007-12-05', '2007-12-26', '2008-01-16']\n",
      "['2008-10-01', '2008-10-22', '2008-11-12', '2008-12-03', '2008-12-24', '2009-01-14']\n",
      "['2009-10-07', '2009-10-28', '2009-11-18', '2009-12-09', '2009-12-30', '2010-01-20']\n",
      "['2010-10-06', '2010-10-27', '2010-11-17', '2010-12-08', '2010-12-29', '2011-01-19']\n"
     ]
    }
   ],
   "source": [
    "for season in seasons:\n",
    "    for date in season:\n",
    "        "
   ]
  },
  {
   "cell_type": "code",
   "execution_count": null,
   "metadata": {},
   "outputs": [],
   "source": []
  }
 ],
 "metadata": {
  "kernelspec": {
   "display_name": "Python 3",
   "language": "python",
   "name": "python3"
  },
  "language_info": {
   "codemirror_mode": {
    "name": "ipython",
    "version": 3
   },
   "file_extension": ".py",
   "mimetype": "text/x-python",
   "name": "python",
   "nbconvert_exporter": "python",
   "pygments_lexer": "ipython3",
   "version": "3.7.0"
  }
 },
 "nbformat": 4,
 "nbformat_minor": 2
}
