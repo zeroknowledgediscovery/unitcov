{
 "cells": [
  {
   "cell_type": "code",
   "execution_count": 1,
   "metadata": {},
   "outputs": [],
   "source": [
    "import pandas as pd\n",
    "import plotly.express as px\n",
    "import json\n",
    "from urllib.request import urlopen\n",
    "import re"
   ]
  },
  {
   "cell_type": "code",
   "execution_count": 2,
   "metadata": {},
   "outputs": [],
   "source": [
    "df = pd.read_csv(f'results/Influenza_county.csv', dtype={'fips': str})"
   ]
  },
  {
   "cell_type": "markdown",
   "metadata": {},
   "source": [
    "## Get 6 weeks in each flu season"
   ]
  },
  {
   "cell_type": "code",
   "execution_count": 3,
   "metadata": {},
   "outputs": [],
   "source": [
    "def foo(date, year):\n",
    "    r = re.compile('\\d{4}-\\d{2}-\\d{2}')\n",
    "    if not r.match(date):\n",
    "        return False\n",
    "    month = int(date.split('-')[1])\n",
    "    a = date.startswith(str(year)) and month >= 10\n",
    "    b = date.startswith(str(year + 1)) and month <= 1\n",
    "    return a or b\n",
    "\n",
    "years = list(range(2003, 2012))\n",
    "\n",
    "starts_of_season = []\n",
    "seasons = []\n",
    "for year in years[:-1]:\n",
    "    cols = [col for col in df.columns if foo(col, year)][::3]\n",
    "    starts_of_season.append(cols[0])\n",
    "    seasons.append(cols)"
   ]
  },
  {
   "cell_type": "markdown",
   "metadata": {},
   "source": [
    "## Plot"
   ]
  },
  {
   "cell_type": "code",
   "execution_count": 5,
   "metadata": {},
   "outputs": [],
   "source": [
    "def plot(\n",
    "    df, \n",
    "    plot_col, \n",
    "    color_min=None, \n",
    "    color_max=None, \n",
    "    save_fname=None):\n",
    "\n",
    "    counties_webpage = 'https://raw.githubusercontent.com/plotly/datasets/master/geojson-counties-fips.json'\n",
    "    with urlopen(counties_webpage) as response:\n",
    "        counties = json.load(response)\n",
    "\n",
    "    if color_min is None:\n",
    "        color_min = df[plot_col].min()\n",
    "    if color_max is None:\n",
    "        color_max = df[plot_col].max()\n",
    "\n",
    "    fig = px.choropleth(\n",
    "        df, \n",
    "        geojson=counties, \n",
    "        locations='fips', \n",
    "        color=plot_col,\n",
    "        color_continuous_scale=px.colors.sequential.RdBu_r[1:-1],\n",
    "        range_color=(color_min, color_max),\n",
    "        scope=\"usa\",\n",
    "    )\n",
    "\n",
    "    # ============================ update figure properties ===========================START\n",
    "    fig.update_layout(\n",
    "        coloraxis_showscale=False,\n",
    "        margin={\n",
    "            'l': 0, \n",
    "            'b': 0, \n",
    "            'r': 0, \n",
    "            't': 0\n",
    "        }\n",
    "    )\n",
    "    fig.update_traces(marker_line_width=0, marker_line_color='lightgray')\n",
    "    # ============================ update figure properties ===========================END\n",
    "    \n",
    "    if save_fname is not None:\n",
    "        fig.write_image(\n",
    "            file=save_fname, \n",
    "            format='pdf', \n",
    "            # engine='kaleido', \n",
    "            width=900, \n",
    "            height=540)\n",
    "\n",
    "    config = {'scrollZoom': False, 'displayModeBar': False}\n",
    "    fig.show(config=config)"
   ]
  },
  {
   "cell_type": "code",
   "execution_count": 4,
   "metadata": {
    "scrolled": true
   },
   "outputs": [],
   "source": [
    "# for i, season in enumerate(seasons[:3]):\n",
    "#     for date in season:\n",
    "#         print(date)\n",
    "#         save_fname = f'results/season_{i}_{date}.pdf'\n",
    "#         plot(df, date, color_max=5, save_fname=save_fname)"
   ]
  },
  {
   "cell_type": "code",
   "execution_count": 5,
   "metadata": {},
   "outputs": [],
   "source": [
    "# tmp = df[starts_of_season + ['fips']].set_index('fips').mean(axis=1).reset_index()\n",
    "# save_fname = 'results/season_start_avg.pdf'\n",
    "# plot(tmp, 0, color_max=5, save_fname=save_fname)"
   ]
  },
  {
   "cell_type": "code",
   "execution_count": null,
   "metadata": {},
   "outputs": [],
   "source": []
  }
 ],
 "metadata": {
  "kernelspec": {
   "display_name": "Python 3",
   "language": "python",
   "name": "python3"
  },
  "language_info": {
   "codemirror_mode": {
    "name": "ipython",
    "version": 3
   },
   "file_extension": ".py",
   "mimetype": "text/x-python",
   "name": "python",
   "nbconvert_exporter": "python",
   "pygments_lexer": "ipython3",
   "version": "3.7.0"
  }
 },
 "nbformat": 4,
 "nbformat_minor": 2
}
