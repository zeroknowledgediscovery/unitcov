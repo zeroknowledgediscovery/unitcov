{
 "cells": [
  {
   "cell_type": "code",
   "execution_count": 1,
   "metadata": {},
   "outputs": [],
   "source": [
    "import pandas as pd\n",
    "import numpy as np\n",
    "import subprocess"
   ]
  },
  {
   "cell_type": "markdown",
   "metadata": {},
   "source": [
    "## Process `Influenza_dict.py` file"
   ]
  },
  {
   "cell_type": "code",
   "execution_count": 6,
   "metadata": {},
   "outputs": [],
   "source": [
    "dict_fname = f'data/Influenza_dict.py'\n",
    "proc_fname = f'data/Influenza_processed.csv'\n",
    "\n",
    "cmd = f\"cat {dict_fname} | sed 1d | sed 's/geo\\[(//g' | sed 's/)\\]=\\[/, /g' | sed 's/\\]//g' | sed \\\"s/'//g\\\" | sed 's/, /,/g' > {proc_fname}\"\n",
    "subprocess.check_output(cmd, shell=True)\n",
    "\n",
    "with open(proc_fname, 'r') as handle:\n",
    "    line = handle.readline().strip().split(',')\n",
    "num_datapoints = len(line) - 3"
   ]
  },
  {
   "cell_type": "code",
   "execution_count": 7,
   "metadata": {},
   "outputs": [],
   "source": [
    "dates = pd.date_range(start='2003-01-01', periods=471, freq='7D')\n",
    "dates = [str(d.date()) for d in dates]\n",
    "\n",
    "df = pd.read_csv(\n",
    "    proc_fname, \n",
    "    header=None, \n",
    "    names=['gender', 'fips', 'age'] + dates, \n",
    "    dtype={'fips': str})\n",
    "\n",
    "df.to_csv(proc_fname, index=False)"
   ]
  },
  {
   "cell_type": "markdown",
   "metadata": {},
   "source": [
    "## Get county view"
   ]
  },
  {
   "cell_type": "code",
   "execution_count": 10,
   "metadata": {},
   "outputs": [],
   "source": [
    "df = pd.read_csv(f'data/Influenza_processed.csv', dtype={'fips': str})\n",
    "\n",
    "df_county = df.groupby(by='fips').sum()\n",
    "\n",
    "# save both the dataframe and sequences for lsmash\n",
    "df_county.to_csv(f'results/Influenza_county.csv')\n",
    "np.savetxt(f'results/Influenza_county.dat', df_county.values, fmt='%d')"
   ]
  },
  {
   "cell_type": "code",
   "execution_count": null,
   "metadata": {},
   "outputs": [],
   "source": []
  }
 ],
 "metadata": {
  "kernelspec": {
   "display_name": "Python 3",
   "language": "python",
   "name": "python3"
  },
  "language_info": {
   "codemirror_mode": {
    "name": "ipython",
    "version": 3
   },
   "file_extension": ".py",
   "mimetype": "text/x-python",
   "name": "python",
   "nbconvert_exporter": "python",
   "pygments_lexer": "ipython3",
   "version": "3.7.0"
  }
 },
 "nbformat": 4,
 "nbformat_minor": 2
}
